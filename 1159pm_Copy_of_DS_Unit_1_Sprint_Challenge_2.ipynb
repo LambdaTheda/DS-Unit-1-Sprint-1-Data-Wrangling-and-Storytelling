{
  "nbformat": 4,
  "nbformat_minor": 0,
  "metadata": {
    "colab": {
      "name": "11pm Copy of DS_Unit_1_Sprint_Challenge_2.ipynb",
      "provenance": [],
      "collapsed_sections": [],
      "include_colab_link": true
    },
    "kernelspec": {
      "display_name": "Python 3",
      "language": "python",
      "name": "python3"
    },
    "language_info": {
      "codemirror_mode": {
        "name": "ipython",
        "version": 3
      },
      "file_extension": ".py",
      "mimetype": "text/x-python",
      "name": "python",
      "nbconvert_exporter": "python",
      "pygments_lexer": "ipython3",
      "version": "3.7.2"
    }
  },
  "cells": [
    {
      "cell_type": "markdown",
      "metadata": {
        "id": "view-in-github",
        "colab_type": "text"
      },
      "source": [
        "<a href=\"https://colab.research.google.com/github/LambdaTheda/DS-Unit-1-Sprint-1-Data-Wrangling-and-Storytelling/blob/master/1159pm_Copy_of_DS_Unit_1_Sprint_Challenge_2.ipynb\" target=\"_parent\"><img src=\"https://colab.research.google.com/assets/colab-badge.svg\" alt=\"Open In Colab\"/></a>"
      ]
    },
    {
      "cell_type": "markdown",
      "metadata": {
        "colab_type": "text",
        "id": "NooAiTdnafkz"
      },
      "source": [
        "# Data Science Unit 1 Sprint Challenge 2\n",
        "\n",
        "## Exploring Data, Testing Hypotheses\n",
        "\n",
        "In this sprint challenge you will look at a dataset of people being approved or rejected for credit.\n",
        "\n",
        "https://archive.ics.uci.edu/ml/datasets/Credit+Approval\n",
        "\n",
        "Data Set Information: This file concerns credit card applications. All attribute names and values have been changed to meaningless symbols to protect confidentiality of the data. This dataset is interesting because there is a good mix of attributes -- continuous, nominal with small numbers of values, and nominal with larger numbers of values. There are also a few missing values.\n",
        "\n",
        "Attribute Information:\n",
        "- A1: b, a.\n",
        "- A2: continuous.\n",
        "- A3: continuous.\n",
        "- A4: u, y, l, t.\n",
        "- A5: g, p, gg.\n",
        "- A6: c, d, cc, i, j, k, m, r, q, w, x, e, aa, ff.\n",
        "- A7: v, h, bb, j, n, z, dd, ff, o.\n",
        "- A8: continuous.\n",
        "- A9: t, f.\n",
        "- A10: t, f.\n",
        "- A11: continuous.\n",
        "- A12: t, f.\n",
        "- A13: g, p, s.\n",
        "- A14: continuous.\n",
        "- A15: continuous.\n",
        "- A16: +,- (class attribute)\n",
        "\n",
        "Yes, most of that doesn't mean anything. A16 (the class attribute) is the most interesting, as it separates the 307 approved cases from the 383 rejected cases. The remaining variables have been obfuscated for privacy - a challenge you may have to deal with in your data science career.\n",
        "\n",
        "Sprint challenges are evaluated based on satisfactory completion of each part. It is suggested you work through it in order, getting each aspect reasonably working, before trying to deeply explore, iterate, or refine any given step. Once you get to the end, if you want to go back and improve things, go for it!"
      ]
    },
    {
      "cell_type": "markdown",
      "metadata": {
        "colab_type": "text",
        "id": "5wch6ksCbJtZ"
      },
      "source": [
        "## Part 1 - Load and validate the data\n",
        "\n",
        "- Load the data as a `pandas` data frame.\n",
        "- Validate that it has the appropriate number of observations (you can check the raw file, and also read the dataset description from UCI).\n",
        "- UCI says there should be missing data - check, and if necessary change the data so pandas recognizes it as na\n",
        "- Make sure that the loaded features are of the types described above (continuous values should be treated as float), and correct as necessary\n",
        "\n",
        "This is review, but skills that you'll use at the start of any data exploration. Further, you may have to do some investigation to figure out which file to load from - that is part of the puzzle."
      ]
    },
    {
      "cell_type": "code",
      "metadata": {
        "colab_type": "code",
        "id": "Q79xDLckzibS",
        "outputId": "5dff58a0-dbcc-4210-e47e-aa94c15aff02",
        "colab": {
          "base_uri": "https://localhost:8080/",
          "height": 54
        }
      },
      "source": [
        "import pandas as pd\n",
        "from scipy.stats import ttest_ind\n",
        "from scipy.stats import chi2_contingency\n",
        "\n",
        "#replace missing values with '?' & load data\n",
        "df = pd.read_csv('crx.data',na_values='?')\n",
        "\n",
        "'''\n",
        "Validate that it has the appropriate number of observations \n",
        "df.shape  # returns (689, 16) \n",
        "\n",
        "df.tail()\n",
        "\n",
        "df.describe()\n",
        "\n",
        "df.head()\n",
        "'''"
      ],
      "execution_count": 39,
      "outputs": [
        {
          "output_type": "execute_result",
          "data": {
            "text/plain": [
              "'\\nValidate that it has the appropriate number of observations \\ndf.shape  # returns (689, 16) \\n\\ndf.tail()\\n\\ndf.describe()\\n\\ndf.head()\\n'"
            ]
          },
          "metadata": {
            "tags": []
          },
          "execution_count": 39
        }
      ]
    },
    {
      "cell_type": "markdown",
      "metadata": {
        "id": "42t2-3aveQO1",
        "colab_type": "text"
      },
      "source": [
        "## Part 2 - Exploring data, Testing hypotheses\n",
        "\n",
        "The only thing we really know about this data is that A16 is the class label. Besides that, we have 6 continuous (float) features and 9 categorical features.\n",
        "\n",
        "Explore the data: you can use whatever approach (tables, utility functions, visualizations) to get an impression of the distributions and relationships of the variables. In general, your goal is to understand how the features are different when grouped by the two class labels (`+` and `-`).\n",
        "\n",
        "For the 6 continuous features, how are they different when split between the two class labels? Choose two features to run t-tests (again split by class label) - specifically, select one feature that is *extremely* different between the classes, and another feature that is notably less different (though perhaps still \"statistically significantly\" different). You may have to explore more than two features to do this.\n",
        "\n",
        "For the categorical features, explore by creating \"cross tabs\" (aka [contingency tables](https://en.wikipedia.org/wiki/Contingency_table)) between them and the class label, and apply the Chi-squared test to them. \n",
        "[pandas.crosstab](http://pandas.pydata.org/pandas-docs/stable/reference/api/pandas.crosstab.html) can create contingency tables, and [scipy.stats.chi2_contingency](https://docs.scipy.org/doc/scipy/reference/generated/scipy.stats.chi2_contingency.html) can calculate the Chi-squared statistic for them.\n",
        "\n",
        "There are 9 categorical features - as with the t-test, try to find one where the Chi-squared test returns an extreme result (rejecting the null that the data are independent), and one where it is less extreme.\n",
        "\n",
        "**NOTE** - \"less extreme\" just means smaller test statistic/larger p-value. Even the least extreme differences may be strongly statistically significant.\n",
        "\n",
        "Your *main* goal is the hypothesis tests, so don't spend too much time on the exploration/visualization piece. That is just a means to an end - use simple visualizations, such as boxplots or a scatter matrix (both built in to pandas), to get a feel for the overall distribution of the variables.\n",
        "\n",
        "This is challenging, so manage your time and aim for a baseline of at least running two t-tests and two Chi-squared tests before polishing. And don't forget to answer the questions in part 3, even if your results in this part aren't what you want them to be."
      ]
    },
    {
      "cell_type": "code",
      "metadata": {
        "id": "JvuKcYMfd4DJ",
        "colab_type": "code",
        "outputId": "eeb5e9a0-fa41-4631-dad2-2989005c920d",
        "colab": {
          "base_uri": "https://localhost:8080/",
          "height": 282
        }
      },
      "source": [
        "#split df  using class labels; \n",
        "plus = df.loc[df['+'] == '+']  #  + seems to be a grp of people approved for credit\n",
        "minus = df.loc[df['+'] == '-'] #  - seems to be a grp of people NOT approved for credit\n",
        "\n",
        "'''\n",
        "Explore data  by creating a box & whisker plot using split df subgrps:\n",
        "\n",
        "Y axis is numerical values under '0' ~column\n",
        "X axis is the col we are looking at to examen if there is a statistically significant difference between this and the minus group's '0' col\n",
        "\n",
        "the boxplot is higher for col '0' in the plus subset (top whisker to top of box indicates the top 25% of \"plus\" people have higher range of y values,\n",
        "compared to  'minus' people)\n",
        "\n",
        "for bottom 25% this is also true\n",
        "\n",
        "green line is mean for both grps\n",
        "'''\n",
        "\n",
        "# Create a box plot for minus grp \n",
        "minus['0'].plot.box()\n",
        "\n"
      ],
      "execution_count": 42,
      "outputs": [
        {
          "output_type": "execute_result",
          "data": {
            "text/plain": [
              "<matplotlib.axes._subplots.AxesSubplot at 0x7f14b0111240>"
            ]
          },
          "metadata": {
            "tags": []
          },
          "execution_count": 42
        },
        {
          "output_type": "display_data",
          "data": {
            "image/png": "[encoded data removed]",
            "text/plain": [
              "<Figure size 432x288 with 1 Axes>"
            ]
          },
          "metadata": {
            "tags": []
          }
        }
      ]
    },
    {
      "cell_type": "code",
      "metadata": {
        "id": "XmwQxav5st5q",
        "colab_type": "code",
        "outputId": "b0a6e650-63cb-4617-b0c3-c2545b4131cc",
        "colab": {
          "base_uri": "https://localhost:8080/",
          "height": 302
        }
      },
      "source": [
        "#create box & whisker plot of plus df subset\n",
        "plus['0'].plot.box()\n"
      ],
      "execution_count": 41,
      "outputs": [
        {
          "output_type": "execute_result",
          "data": {
            "text/plain": [
              "'\\nY axis is numerical values under \\'0\\' ~column\\nX axis is the col we are looking at to examen if there is a statistically significant difference between this and the minus group\\'s \\'0\\' col\\n\\nthe boxplot is higher for col \\'0\\' in the plus subset (top whisker to top of box indicates the top 25% of \"plus\" people have higher range of y values,\\ncompared to  \\'minus\\' people)\\n\\nfor bottom 25% this is also true\\n\\ngreen line is mean for both grps\\n'"
            ]
          },
          "metadata": {
            "tags": []
          },
          "execution_count": 41
        },
        {
          "output_type": "display_data",
          "data": {
            "image/png": "[encoded data removed]",
            "text/plain": [
              "<Figure size 432x288 with 1 Axes>"
            ]
          },
          "metadata": {
            "tags": []
          }
        }
      ]
    },
    {
      "cell_type": "code",
      "metadata": {
        "id": "xImL3VETxd4j",
        "colab_type": "code",
        "outputId": "ffa2f3f2-ac7a-4f55-e4c3-781e3f332d52",
        "colab": {
          "base_uri": "https://localhost:8080/",
          "height": 54
        }
      },
      "source": [
        "'''\n",
        "t test to chk if the differences in the plus and minus col '0' vals are statistically signif\n",
        "Null hypoth: they are NOT stat'ly diff\n",
        "Alt hyp: they are\n",
        "'''\n",
        "\n",
        "from scipy.stats import ttest_ind\n",
        "ttest_ind(plus['0'], minus['0'])\n",
        "\n",
        "'''\n",
        "Returns: \n",
        "Ttest_indResult(statistic=5.5785223709472715, pvalue=3.490724496507552e-08)\n",
        " because p value is < 0.05, we REJECT the NULL HYP, meaning \n",
        " the observed diff IS stat'ly diff\n",
        "\n",
        "'''"
      ],
      "execution_count": 44,
      "outputs": [
        {
          "output_type": "execute_result",
          "data": {
            "text/plain": [
              "'\\nReturns: \\nTtest_indResult(statistic=5.5785223709472715, pvalue=3.490724496507552e-08)\\n because p value is < 0.05, we REJECT the NULL HYP, meaning \\n\\n'"
            ]
          },
          "metadata": {
            "tags": []
          },
          "execution_count": 44
        }
      ]
    },
    {
      "cell_type": "code",
      "metadata": {
        "colab_type": "code",
        "id": "_nqcgc0yzm68",
        "colab": {
          "base_uri": "https://localhost:8080/",
          "height": 282
        },
        "outputId": "2c5c3419-6777-4dbc-88fa-469b34d49e0f"
      },
      "source": [
        "'''\n",
        "Examen col called ~'1.25', again with box & whisker plots of plus and minus subgrps.\n",
        "small circles on top of top whisker are outliers\n",
        "'''\n",
        "plus['1.25'].plot.box()\n",
        "\n",
        "\n"
      ],
      "execution_count": 45,
      "outputs": [
        {
          "output_type": "execute_result",
          "data": {
            "text/plain": [
              "<matplotlib.axes._subplots.AxesSubplot at 0x7f14b00f9940>"
            ]
          },
          "metadata": {
            "tags": []
          },
          "execution_count": 45
        },
        {
          "output_type": "display_data",
          "data": {
            "image/png": "[encoded data removed]",
            "text/plain": [
              "<Figure size 432x288 with 1 Axes>"
            ]
          },
          "metadata": {
            "tags": []
          }
        }
      ]
    },
    {
      "cell_type": "code",
      "metadata": {
        "id": "v9LS2gusEs_w",
        "colab_type": "code",
        "colab": {
          "base_uri": "https://localhost:8080/",
          "height": 34
        },
        "outputId": "5f44b563-0bc9-4095-e6a4-0078f6df0b53"
      },
      "source": [
        " # t test \n",
        "ttest_ind(plus['1.25'], minus['1.25']) # pval low so reject Null hypoth, ie THERE IS  A SIG DIFF IN 2 subsets"
      ],
      "execution_count": 46,
      "outputs": [
        {
          "output_type": "execute_result",
          "data": {
            "text/plain": [
              "Ttest_indResult(statistic=8.953578558992847, pvalue=3.188202861884123e-18)"
            ]
          },
          "metadata": {
            "tags": []
          },
          "execution_count": 46
        }
      ]
    },
    {
      "cell_type": "code",
      "metadata": {
        "id": "P6UQUryFgz6Y",
        "colab_type": "code",
        "colab": {}
      },
      "source": [
        "# compare plus and minus grps with crosstab using the t column; see if  there is a dep betwn these 2 categorical cols (the 2 grps)\n",
        "pd.crosstab(df['t'],df['+']) # pval low so reject null hypoth that there is no stat'ly diff "
      ],
      "execution_count": 0,
      "outputs": []
    },
    {
      "cell_type": "code",
      "metadata": {
        "id": "uO9lE8utg4NJ",
        "colab_type": "code",
        "colab": {}
      },
      "source": [
        "#check to see if diff in \"t' btwn plus and minus grps is statistically signif btwn 2 categorical columns\n",
        "# f col has >10X -s as +, eg, so it's a test worthy col\n",
        "\n",
        "chi2_contingency(pd.crosstab(df['t'],df['+'])) "
      ],
      "execution_count": 0,
      "outputs": []
    },
    {
      "cell_type": "code",
      "metadata": {
        "id": "gtrN6E_HhF7v",
        "colab_type": "code",
        "colab": {}
      },
      "source": [
        "#check another col, 'u' for same criterion also with crosstab\n",
        "pd.crosstab(df['u'],df['+'])"
      ],
      "execution_count": 0,
      "outputs": []
    },
    {
      "cell_type": "code",
      "metadata": {
        "id": "p1xIalSohUcr",
        "colab_type": "code",
        "colab": {
          "base_uri": "https://localhost:8080/",
          "height": 119
        },
        "outputId": "1afec8fd-c9ae-4aa0-f274-40a27d1dbc58"
      },
      "source": [
        "'''\n",
        "chi^2 test \n",
        "RETURNS:\n",
        "\n",
        "(chi^2 stat,\n",
        "\n",
        "pval, #THIS IS WHAT WE REALLY LOOK AT atm <0.05 REJECT NULL HYP: NO DEP BTWN 'u'' and '+,\n",
        "SO THERE IS A STAT'STLY SIGN'F'LY RELAT BTWN 2\n",
        "\n",
        "deg of freedom, ( we don't need this atm)\n",
        "\n",
        "EXPECTED OUTDOME IF 2 COLS ARE INDEP:\n",
        "array(...)\n",
        "\n",
        "\n",
        "'''\n",
        "chi2_contingency(pd.crosstab(df['u'],df['+']))\n",
        "\n",
        "#  p val is < 0.05, p val = 2.229588276851332e-06, so we REJECT NULL HYPOTH above"
      ],
      "execution_count": 47,
      "outputs": [
        {
          "output_type": "execute_result",
          "data": {
            "text/plain": [
              "(26.027387237505934,\n",
              " 2.229588276851332e-06,\n",
              " 2,\n",
              " array([[  0.88433382,   1.11566618],\n",
              "        [229.04245974, 288.95754026],\n",
              "        [ 72.07320644,  90.92679356]]))"
            ]
          },
          "metadata": {
            "tags": []
          },
          "execution_count": 47
        }
      ]
    },
    {
      "cell_type": "markdown",
      "metadata": {
        "colab_type": "text",
        "id": "ZM8JckA2bgnp"
      },
      "source": [
        "## Part 3 - Analysis and Interpretation\n",
        "\n",
        "Now that you've looked at the data, answer the following questions:\n",
        "\n",
        "- Interpret and explain the two t-tests you ran - what do they tell you about the relationships between the continuous features you selected and the class labels?\n",
        "- Interpret and explain the two Chi-squared tests you ran - what do they tell you about the relationships between the categorical features you selected and the class labels?\n",
        "- What was the most challenging part of this sprint challenge?\n",
        "\n",
        "Answer with text, but feel free to intersperse example code/results or refer to it from earlier."
      ]
    },
    {
      "cell_type": "markdown",
      "metadata": {
        "colab_type": "text",
        "id": "LIozLDNG2Uhu"
      },
      "source": [
        "*Your words here!*"
      ]
    },
    {
      "cell_type": "markdown",
      "metadata": {
        "id": "jJqhL9ZMjDlu",
        "colab_type": "text"
      },
      "source": [
        "1) the 2 tests show that the minus group's examened continuous cols were statistically different from the plus's group's corresponding cols\n",
        "\n",
        "2) the Chi^2 tests on the categorical features examened showed there to be  a dependency between the + or - status and those respective subgrps' columns\n",
        "\n",
        "3) the most challenging part of this test was the expected volume of synthesis of  unit 1 mods 1 & 2 in such a short period of time. Especially at this time of year, etc."
      ]
    }
  ]
}