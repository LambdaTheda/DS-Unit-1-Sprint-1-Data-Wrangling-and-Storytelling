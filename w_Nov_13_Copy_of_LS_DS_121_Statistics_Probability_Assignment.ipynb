{
  "nbformat": 4,
  "nbformat_minor": 0,
  "metadata": {
    "kernelspec": {
      "display_name": "Python 3",
      "language": "python",
      "name": "python3"
    },
    "language_info": {
      "codemirror_mode": {
        "name": "ipython",
        "version": 3
      },
      "file_extension": ".py",
      "mimetype": "text/x-python",
      "name": "python",
      "nbconvert_exporter": "python",
      "pygments_lexer": "ipython3",
      "version": "3.7.3"
    },
    "colab": {
      "name": "w Nov 13 Copy of LS_DS_121_Statistics_Probability_Assignment.ipynb",
      "provenance": [],
      "collapsed_sections": [],
      "include_colab_link": true
    }
  },
  "cells": [
    {
      "cell_type": "markdown",
      "metadata": {
        "id": "view-in-github",
        "colab_type": "text"
      },
      "source": [
        "<a href=\"https://colab.research.google.com/github/LambdaTheda/DS-Unit-1-Sprint-1-Data-Wrangling-and-Storytelling/blob/master/w_Nov_13_Copy_of_LS_DS_121_Statistics_Probability_Assignment.ipynb\" target=\"_parent\"><img src=\"https://colab.research.google.com/assets/colab-badge.svg\" alt=\"Open In Colab\"/></a>"
      ]
    },
    {
      "cell_type": "markdown",
      "metadata": {
        "id": "Sa5KWMO1ngPN",
        "colab_type": "text"
      },
      "source": [
        "<img align=\"left\" src=\"https://lever-client-logos.s3.amazonaws.com/864372b1-534c-480e-acd5-9711f850815c-1524247202159.png\" width=200>\n",
        "<br></br>\n",
        "<br></br>\n",
        "\n",
        "## *Data Science Unit 1 Sprint 2 Assignment 1*\n",
        "\n",
        "# Apply the t-test to real data\n",
        "\n",
        "Your assignment is to determine which issues have \"statistically significant\" differences between political parties in this [1980s congressional voting data](https://archive.ics.uci.edu/ml/datasets/Congressional+Voting+Records). The data consists of 435 instances (one for each congressperson), a class (democrat or republican), and 16 binary attributes (yes or no for voting for or against certain issues). Be aware - there are missing values!\n",
        "\n",
        "Your goals:\n",
        "\n",
        "1. Load and clean the data (or determine the best method to drop observations when running tests)\n",
        "2. Using hypothesis testing, find an issue that democrats support more than republicans with p < 0.01\n",
        "3. Using hypothesis testing, find an issue that republicans support more than democrats with p < 0.01\n",
        "4. Using hypothesis testing, find an issue where the difference between republicans and democrats has p > 0.1 (i.e. there may not be much of a difference)\n",
        "\n",
        "Note that this data will involve *2 sample* t-tests, because you're comparing averages across two groups (republicans and democrats) rather than a single group against a null hypothesis.\n",
        "\n",
        "Stretch goals:\n",
        "\n",
        "1. Refactor your code into functions so it's easy to rerun with arbitrary variables\n",
        "2. Apply hypothesis testing to your personal project data (for the purposes of this notebook you can type a summary of the hypothesis you formed and tested)"
      ]
    },
    {
      "cell_type": "code",
      "metadata": {
        "id": "ZKwspo2CngPP",
        "colab_type": "code",
        "outputId": "32804660-fd32-41e0-99fd-a7ffd9bf56ae",
        "colab": {
          "base_uri": "https://localhost:8080/",
          "height": 272
        }
      },
      "source": [
        "### YOUR CODE STARTS HERE\n",
        "\n",
        "import pandas as pd\n",
        "\n",
        "# make into a df\n",
        "df = pd.read_csv('https://archive.ics.uci.edu/ml/machine-learning-databases/voting-records/house-votes-84.data', \n",
        "                 header=None, \n",
        "                 names=column_headers,\n",
        "                 na_values=\"?\")\n",
        "\n",
        "df.head()\n",
        "df.describe\n",
        "#df.columns"
      ],
      "execution_count": 11,
      "outputs": [
        {
          "output_type": "execute_result",
          "data": {
            "text/plain": [
              "<bound method NDFrame.describe of           party handicapped-infants water-project  ... crime duty-free south-africa\n",
              "0    republican                   n             y  ...     y         n            y\n",
              "1    republican                   n             y  ...     y         n          NaN\n",
              "2      democrat                 NaN             y  ...     y         n            n\n",
              "3      democrat                   n             y  ...     n         n            y\n",
              "4      democrat                   y             y  ...     y         y            y\n",
              "..          ...                 ...           ...  ...   ...       ...          ...\n",
              "430  republican                   n             n  ...     y         n            y\n",
              "431    democrat                   n             n  ...     n         n            y\n",
              "432  republican                   n           NaN  ...     y         n            y\n",
              "433  republican                   n             n  ...     y         n            y\n",
              "434  republican                   n             y  ...     y       NaN            n\n",
              "\n",
              "[435 rows x 17 columns]>"
            ]
          },
          "metadata": {
            "tags": []
          },
          "execution_count": 11
        }
      ]
    },
    {
      "cell_type": "code",
      "metadata": {
        "id": "H9nVb69YCFV4",
        "colab_type": "code",
        "colab": {}
      },
      "source": [
        "\n",
        "#clean data after having changed the column names and setting header = none\n",
        "# 1) drop nulls\n",
        "df.dropna()\n",
        "\n",
        "# 2) recode votes as numeric = DATA CLEANING\n",
        "df = df.replace ({'y':1, 'n':0})"
      ],
      "execution_count": 0,
      "outputs": []
    },
    {
      "cell_type": "markdown",
      "metadata": {
        "id": "TdpyYhXVJvot",
        "colab_type": "text"
      },
      "source": [
        ""
      ]
    },
    {
      "cell_type": "code",
      "metadata": {
        "id": "tPu8d14m9exa",
        "colab_type": "code",
        "colab": {}
      },
      "source": [
        "#Using hypothesis testing, find an issue that democrats support more than republicans with p < 0.01\n",
        "\n",
        "from scipy.stats import ttest_ind\n",
        "import numpy as np\n",
        "\n"
      ],
      "execution_count": 0,
      "outputs": []
    }
  ]
}