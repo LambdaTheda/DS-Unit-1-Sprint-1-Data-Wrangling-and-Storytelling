{
  "nbformat": 4,
  "nbformat_minor": 0,
  "metadata": {
    "colab": {
      "name": "Live Coding Copy of LS_DS_121_Statistics_Probability_and_Inference_Lecture_Challenge.ipynb",
      "provenance": [],
      "collapsed_sections": [
        "TnnZISdFqTiz",
        "gM_0-HDcqTi0",
        "KJHRpW1tqTi4",
        "Ttbz-THcqTjA",
        "szPoScT5qTjC"
      ],
      "include_colab_link": true
    },
    "kernelspec": {
      "display_name": "Python 3",
      "language": "python",
      "name": "python3"
    },
    "language_info": {
      "codemirror_mode": {
        "name": "ipython",
        "version": 3
      },
      "file_extension": ".py",
      "mimetype": "text/x-python",
      "name": "python",
      "nbconvert_exporter": "python",
      "pygments_lexer": "ipython3",
      "version": "3.7.3"
    }
  },
  "cells": [
    {
      "cell_type": "markdown",
      "metadata": {
        "id": "view-in-github",
        "colab_type": "text"
      },
      "source": [
        "<a href=\"https://colab.research.google.com/github/LambdaTheda/DS-Unit-1-Sprint-1-Data-Wrangling-and-Storytelling/blob/master/Live_Coding_Copy_of_LS_DS_121_Statistics_Probability_and_Inference_Lecture_Challenge.ipynb\" target=\"_parent\"><img src=\"https://colab.research.google.com/assets/colab-badge.svg\" alt=\"Open In Colab\"/></a>"
      ]
    },
    {
      "cell_type": "markdown",
      "metadata": {
        "colab_type": "text",
        "id": "eJGtmni-DezY"
      },
      "source": [
        "<img align=\"left\" src=\"https://lever-client-logos.s3.amazonaws.com/864372b1-534c-480e-acd5-9711f850815c-1524247202159.png\" width=200>\n",
        "\n",
        "<br></br>\n",
        "<br></br>\n",
        "\n",
        "## *Data Science Unit 1 Sprint 2 Lesson 1*\n",
        "\n",
        "# Statistics, Probability and Inference\n",
        "\n",
        "## Learning Objectives\n",
        "* [Part 1](#p1): Normal Distribution Revisted\n",
        "* [Part 2](#p2): Student's T Test\n",
        "* [Part 3](#p3): Hypothesis Test & Doing it Live"
      ]
    },
    {
      "cell_type": "markdown",
      "metadata": {
        "colab_type": "text",
        "id": "WOXkk77hbeP5"
      },
      "source": [
        "## What is Descriptive Statistics?\n",
        "\n",
        "<https://statistics.laerd.com/statistical-guides/descriptive-inferential-statistics.php>"
      ]
    },
    {
      "cell_type": "code",
      "metadata": {
        "colab_type": "code",
        "id": "aGsGGy4Mb9IG",
        "colab": {}
      },
      "source": [
        "# import\n",
        "import pandas as pd"
      ],
      "execution_count": 0,
      "outputs": []
    },
    {
      "cell_type": "code",
      "metadata": {
        "id": "mlaZUQFjzh8Z",
        "colab_type": "code",
        "outputId": "a12395be-4673-44e7-edc0-acd30fbf39c4",
        "colab": {
          "base_uri": "https://localhost:8080/",
          "height": 202
        }
      },
      "source": [
        "df = pd.DataFrame({'a': [1,2,3,4,5], 'b':[2,4,6,8,10]})\n",
        "df.head()"
      ],
      "execution_count": 0,
      "outputs": [
        {
          "output_type": "execute_result",
          "data": {
            "text/html": [
              "<div>\n",
              "<style scoped>\n",
              "    .dataframe tbody tr th:only-of-type {\n",
              "        vertical-align: middle;\n",
              "    }\n",
              "\n",
              "    .dataframe tbody tr th {\n",
              "        vertical-align: top;\n",
              "    }\n",
              "\n",
              "    .dataframe thead th {\n",
              "        text-align: right;\n",
              "    }\n",
              "</style>\n",
              "<table border=\"1\" class=\"dataframe\">\n",
              "  <thead>\n",
              "    <tr style=\"text-align: right;\">\n",
              "      <th></th>\n",
              "      <th>a</th>\n",
              "      <th>b</th>\n",
              "    </tr>\n",
              "  </thead>\n",
              "  <tbody>\n",
              "    <tr>\n",
              "      <th>0</th>\n",
              "      <td>1</td>\n",
              "      <td>2</td>\n",
              "    </tr>\n",
              "    <tr>\n",
              "      <th>1</th>\n",
              "      <td>2</td>\n",
              "      <td>4</td>\n",
              "    </tr>\n",
              "    <tr>\n",
              "      <th>2</th>\n",
              "      <td>3</td>\n",
              "      <td>6</td>\n",
              "    </tr>\n",
              "    <tr>\n",
              "      <th>3</th>\n",
              "      <td>4</td>\n",
              "      <td>8</td>\n",
              "    </tr>\n",
              "    <tr>\n",
              "      <th>4</th>\n",
              "      <td>5</td>\n",
              "      <td>10</td>\n",
              "    </tr>\n",
              "  </tbody>\n",
              "</table>\n",
              "</div>"
            ],
            "text/plain": [
              "   a   b\n",
              "0  1   2\n",
              "1  2   4\n",
              "2  3   6\n",
              "3  4   8\n",
              "4  5  10"
            ]
          },
          "metadata": {
            "tags": []
          },
          "execution_count": 2
        }
      ]
    },
    {
      "cell_type": "code",
      "metadata": {
        "colab_type": "code",
        "id": "K-73WFB5cI1_",
        "outputId": "2454495c-e31d-4c43-b5d6-1567b6c727c5",
        "colab": {
          "base_uri": "https://localhost:8080/",
          "height": 294
        }
      },
      "source": [
        "# How can we quickly look at some descriptive statistics of the above dataframe?\n",
        "df.describe()"
      ],
      "execution_count": 0,
      "outputs": [
        {
          "output_type": "execute_result",
          "data": {
            "text/html": [
              "<div>\n",
              "<style scoped>\n",
              "    .dataframe tbody tr th:only-of-type {\n",
              "        vertical-align: middle;\n",
              "    }\n",
              "\n",
              "    .dataframe tbody tr th {\n",
              "        vertical-align: top;\n",
              "    }\n",
              "\n",
              "    .dataframe thead th {\n",
              "        text-align: right;\n",
              "    }\n",
              "</style>\n",
              "<table border=\"1\" class=\"dataframe\">\n",
              "  <thead>\n",
              "    <tr style=\"text-align: right;\">\n",
              "      <th></th>\n",
              "      <th>a</th>\n",
              "      <th>b</th>\n",
              "    </tr>\n",
              "  </thead>\n",
              "  <tbody>\n",
              "    <tr>\n",
              "      <th>count</th>\n",
              "      <td>5.000000</td>\n",
              "      <td>5.000000</td>\n",
              "    </tr>\n",
              "    <tr>\n",
              "      <th>mean</th>\n",
              "      <td>3.000000</td>\n",
              "      <td>6.000000</td>\n",
              "    </tr>\n",
              "    <tr>\n",
              "      <th>std</th>\n",
              "      <td>1.581139</td>\n",
              "      <td>3.162278</td>\n",
              "    </tr>\n",
              "    <tr>\n",
              "      <th>min</th>\n",
              "      <td>1.000000</td>\n",
              "      <td>2.000000</td>\n",
              "    </tr>\n",
              "    <tr>\n",
              "      <th>25%</th>\n",
              "      <td>2.000000</td>\n",
              "      <td>4.000000</td>\n",
              "    </tr>\n",
              "    <tr>\n",
              "      <th>50%</th>\n",
              "      <td>3.000000</td>\n",
              "      <td>6.000000</td>\n",
              "    </tr>\n",
              "    <tr>\n",
              "      <th>75%</th>\n",
              "      <td>4.000000</td>\n",
              "      <td>8.000000</td>\n",
              "    </tr>\n",
              "    <tr>\n",
              "      <th>max</th>\n",
              "      <td>5.000000</td>\n",
              "      <td>10.000000</td>\n",
              "    </tr>\n",
              "  </tbody>\n",
              "</table>\n",
              "</div>"
            ],
            "text/plain": [
              "              a          b\n",
              "count  5.000000   5.000000\n",
              "mean   3.000000   6.000000\n",
              "std    1.581139   3.162278\n",
              "min    1.000000   2.000000\n",
              "25%    2.000000   4.000000\n",
              "50%    3.000000   6.000000\n",
              "75%    4.000000   8.000000\n",
              "max    5.000000  10.000000"
            ]
          },
          "metadata": {
            "tags": []
          },
          "execution_count": 3
        }
      ]
    },
    {
      "cell_type": "code",
      "metadata": {
        "id": "LVKBSyOEz8LH",
        "colab_type": "code",
        "outputId": "c3c5ed43-bb9b-4359-b6f1-a2971bec706e",
        "colab": {
          "base_uri": "https://localhost:8080/",
          "height": 265
        }
      },
      "source": [
        "df['a'].plot(kind='hist');"
      ],
      "execution_count": 0,
      "outputs": [
        {
          "output_type": "display_data",
          "data": {
            "image/png": "[encoded data removed]",
            "text/plain": [
              "<Figure size 432x288 with 1 Axes>"
            ]
          },
          "metadata": {
            "tags": []
          }
        }
      ]
    },
    {
      "cell_type": "markdown",
      "metadata": {
        "colab_type": "text",
        "id": "MOkBDGsWbMRc"
      },
      "source": [
        "## Normal Distribution Revisited\n",
        "\n",
        "What is the Normal distribution: A probability distribution of a continuous real valued random-variable. The Normal distribution properties make it useful for the *Central Limit Theorm*, because if we assume a variable follows the normal distribution, we can make certain conclusions based on probabilities."
      ]
    },
    {
      "cell_type": "code",
      "metadata": {
        "colab_type": "code",
        "id": "BYlq8EYKbMRd",
        "colab": {}
      },
      "source": [
        "# create some artificial data\n",
        "import numpy as np\n",
        "mu = 0 # mean\n",
        "sigma = 1 # std dev\n",
        "sample = np.random.normal(mu, sigma, 1000)"
      ],
      "execution_count": 0,
      "outputs": []
    },
    {
      "cell_type": "code",
      "metadata": {
        "id": "4J5XbeaN0cEv",
        "colab_type": "code",
        "outputId": "fd5755b1-1278-4ff7-fe4a-2133cb6566bf",
        "colab": {
          "base_uri": "https://localhost:8080/",
          "height": 35
        }
      },
      "source": [
        "sample[:5]"
      ],
      "execution_count": 0,
      "outputs": [
        {
          "output_type": "execute_result",
          "data": {
            "text/plain": [
              "array([ 1.98612318, -0.54465838,  0.49060463, -0.05477924, -0.35133169])"
            ]
          },
          "metadata": {
            "tags": []
          },
          "execution_count": 8
        }
      ]
    },
    {
      "cell_type": "code",
      "metadata": {
        "colab_type": "code",
        "id": "GbVV3_TsbMRn",
        "outputId": "134549ef-f2ae-4e86-b73e-3d4eb83f303e",
        "colab": {
          "base_uri": "https://localhost:8080/",
          "height": 283
        }
      },
      "source": [
        "# plot this using seaborn\n",
        "import seaborn as sns\n",
        "ax = sns.distplot(sample, color='r')\n",
        "ax.axvline(np.percentile(sample, 97.5),0)\n",
        "ax.axvline(np.percentile(sample, 2.5),0)"
      ],
      "execution_count": 0,
      "outputs": [
        {
          "output_type": "execute_result",
          "data": {
            "text/plain": [
              "<matplotlib.lines.Line2D at 0x7f3322122a20>"
            ]
          },
          "metadata": {
            "tags": []
          },
          "execution_count": 10
        },
        {
          "output_type": "display_data",
          "data": {
            "image/png": "[encoded data removed]",
            "text/plain": [
              "<Figure size 432x288 with 1 Axes>"
            ]
          },
          "metadata": {
            "tags": []
          }
        }
      ]
    },
    {
      "cell_type": "markdown",
      "metadata": {
        "colab_type": "text",
        "id": "D3ZwR9tDc-KX"
      },
      "source": [
        "![The Normal Distribution](https://upload.wikimedia.org/wikipedia/commons/thumb/a/a9/Empirical_Rule.PNG/350px-Empirical_Rule.png)"
      ]
    },
    {
      "cell_type": "markdown",
      "metadata": {
        "colab_type": "text",
        "id": "wtobOQescQU6"
      },
      "source": [
        "## What is Inferential Statistics?"
      ]
    },
    {
      "cell_type": "markdown",
      "metadata": {
        "id": "MqtZJOfSqTiw",
        "colab_type": "text"
      },
      "source": [
        "![stats](https://slideplayer.com/slide/5130463/16/images/2/Statistical+Inference.jpg)"
      ]
    },
    {
      "cell_type": "markdown",
      "metadata": {
        "id": "JzZ0CZ3WqTix",
        "colab_type": "text"
      },
      "source": [
        "When we talk about the **population parameters**: we use $\\mu$ and $\\sigma$ for mean and standard deviation\n",
        "\n",
        "When we talk about the sample **sample statistics**: we use $\\bar{x}$ and s\n",
        "\n",
        "    \n"
      ]
    },
    {
      "cell_type": "markdown",
      "metadata": {
        "colab_type": "text",
        "id": "zsb1KMUSc2xe"
      },
      "source": [
        "## Hypothesis Testing (T-Tests)"
      ]
    },
    {
      "cell_type": "markdown",
      "metadata": {
        "id": "wCe8Epb2qTiy",
        "colab_type": "text"
      },
      "source": [
        "What is A/B testing?  \n",
        "https://www.convertize.com/what-is-ab-testing/   \n",
        "https://blog.hubspot.com/blog/tabid/6307/bid/20566/the-button-color-a-b-test-red-beats-green.aspx"
      ]
    },
    {
      "cell_type": "markdown",
      "metadata": {
        "id": "TnnZISdFqTiz",
        "colab_type": "text"
      },
      "source": [
        "#### 3 types of t-tests"
      ]
    },
    {
      "cell_type": "markdown",
      "metadata": {
        "id": "aWTwNZ96qTiz",
        "colab_type": "text"
      },
      "source": [
        "There are three main types of t-test:  \n",
        "-- An Independent Samples t-test compares the means for two groups.  \n",
        "-- A Paired sample t-test compares means from the same group at different times.  \n",
        "-- A One sample t-test tests the mean of a single group against a known mean."
      ]
    },
    {
      "cell_type": "markdown",
      "metadata": {
        "id": "gM_0-HDcqTi0",
        "colab_type": "text"
      },
      "source": [
        "#### T-Test Assumptions:  \n",
        "1. the scale of measurement applied to the data collected follows a continuous or ordinal scale, such as the scores for an IQ test.  \n",
        "2. the data is collected from a representative, randomly selected portion of the total population.  \n",
        "3. the data, when plotted, results in a normal distribution, bell-shaped distribution curve.  \n",
        "4. a reasonably large sample size is used. A larger sample size means the distribution of results should approach a normal bell-shaped curve.  \n",
        "5. homogeneity of variance. Homogeneous, or equal, variance exists when the standard deviations of samples are approximately equal.  "
      ]
    },
    {
      "cell_type": "code",
      "metadata": {
        "id": "1RNyP85eqTi0",
        "colab_type": "code",
        "colab": {}
      },
      "source": [
        "#### Example: sample data -- number of \"conversions\" between two versions of a website, over 10 days\n",
        "a=[1136, 1178, 1212, 1193, 1226, 1154, 1230, 1222, 1161, 1148]\n",
        "b=[1184, 1203, 1219, 1238, 1243, 1204, 1269, 1256, 1156, 1248]"
      ],
      "execution_count": 0,
      "outputs": []
    },
    {
      "cell_type": "code",
      "metadata": {
        "id": "SC-P7n43qTi2",
        "colab_type": "code",
        "outputId": "fb350cf6-e1f4-45a3-b2a4-eb9b8e71a344",
        "colab": {
          "base_uri": "https://localhost:8080/",
          "height": 52
        }
      },
      "source": [
        "# It looks like B produces more conversions!\n",
        "print(np.mean(a))\n",
        "print(np.mean(b))"
      ],
      "execution_count": 0,
      "outputs": [
        {
          "output_type": "stream",
          "text": [
            "1186.0\n",
            "1222.0\n"
          ],
          "name": "stdout"
        }
      ]
    },
    {
      "cell_type": "markdown",
      "metadata": {
        "id": "KJHRpW1tqTi4",
        "colab_type": "text"
      },
      "source": [
        "#### Generate a hypothesis\n",
        "Null hypothesis: website A has the same average conversion rate as website B   \n",
        "Alternative hypothesis (1-tailed): website A has lower/higher average conversion rate than website B   \n",
        "Alternative hypothesis (2-tailed): website A has different average conversion rate than website B "
      ]
    },
    {
      "cell_type": "code",
      "metadata": {
        "id": "o5o97dHPqTi4",
        "colab_type": "code",
        "colab": {}
      },
      "source": [
        "# import\n"
      ],
      "execution_count": 0,
      "outputs": []
    },
    {
      "cell_type": "code",
      "metadata": {
        "id": "iqo_CXAKqTi6",
        "colab_type": "code",
        "colab": {}
      },
      "source": [
        "# compare\n"
      ],
      "execution_count": 0,
      "outputs": []
    },
    {
      "cell_type": "code",
      "metadata": {
        "id": "Vt69S23iqTi8",
        "colab_type": "code",
        "colab": {}
      },
      "source": [
        "# interpret the p-value\n",
        "# 95% confidence interval (alpha = .05)\n",
        "# 99% confidence interval (alpha = .01)\n",
        "# 99.9% confidence interval (alpha = .001)"
      ],
      "execution_count": 0,
      "outputs": []
    },
    {
      "cell_type": "code",
      "metadata": {
        "id": "TjnIQXRIqTi-",
        "colab_type": "code",
        "colab": {}
      },
      "source": [
        "# what about the t-statistic?\n"
      ],
      "execution_count": 0,
      "outputs": []
    },
    {
      "cell_type": "markdown",
      "metadata": {
        "id": "CmZRlpkfqTi_",
        "colab_type": "text"
      },
      "source": [
        "![tstat](https://blog.minitab.com/hubfs/Imported_Blog_Media/formula_1t.png)"
      ]
    },
    {
      "cell_type": "markdown",
      "metadata": {
        "id": "m0R4uEM7qTjA",
        "colab_type": "text"
      },
      "source": [
        "A common analogy is that the t-value is the signal-to-noise ratio.   \n",
        "**The numerator is the signal.** You simply take the sample mean and subtract the null hypothesis value. As the difference between the sample mean and the null hypothesis mean increases in either the positive or negative direction, the strength of the signal increases.  \n",
        "**The denominator is the noise.** The equation in the denominator is a measure of variability known as the standard error of the mean. This statistic indicates how accurately your sample estimates the mean of the population. A larger number indicates that your sample estimate is less precise because it has more random error.  \n",
        "**Both the signal and noise values are in the units of your data.** If your signal is 6 and the noise is 2, your t-value is 3. This t-value indicates that the difference is 3 times the size of the standard error. However, if there is a difference of the same size but your data have more variability (6), your t-value is only 1. The signal is at the same scale as the noise.  \n",
        "https://blog.minitab.com/blog/adventures-in-statistics-2/understanding-t-tests-1-sample-2-sample-and-paired-t-tests"
      ]
    },
    {
      "cell_type": "markdown",
      "metadata": {
        "id": "Ttbz-THcqTjA",
        "colab_type": "text"
      },
      "source": [
        "#### Another example: pancakes"
      ]
    },
    {
      "cell_type": "markdown",
      "metadata": {
        "colab_type": "text",
        "id": "cOnNrJembf5c"
      },
      "source": [
        "\n",
        "\n",
        "Ever thought about how long it takes to make a pancake? Have you ever compared the tooking time of a pancake on each eye of your stove? Is the cooking time different between the different eyes? Now, we can run an experiment and collect a sample of 1,000 pancakes on one eye and another 800 pancakes on the other eye. Assumed we used the same pan, batter, and technique on both eyes. Our average cooking times were 180 (5 std) and 178.5 (4.25 std) seconds repsectively. Now, we can tell those numbers are not identicial, but how confident are we that those numbers are practically the same? How do we know the slight difference isn't caused by some external randomness?\n",
        "\n",
        "Yes, today's lesson will help you figure out how long to cook your pancakes (*theoretically*). Experimentation is up to you; otherwise, you have to accept my data as true. How are going to accomplish this? With probability, statistics, inference and maple syrup (optional). \n",
        "\n",
        "<img src=\"https://images.unsplash.com/photo-1541288097308-7b8e3f58c4c6?ixlib=rb-1.2.1&ixid=eyJhcHBfaWQiOjEyMDd9&auto=format&fit=crop&w=3300&q=80\" width=400>\n",
        "\n"
      ]
    },
    {
      "cell_type": "markdown",
      "metadata": {
        "id": "szPoScT5qTjC",
        "colab_type": "text"
      },
      "source": [
        "#### Our first 2-sample t-test (pancake example)\n",
        "1) Null Hypothesis: (boring hypothesis)\n",
        "\n",
        "𝑥¯1==𝑥¯2 \n",
        "\n",
        "Or that the average cooking time between the two burners is the same.\n",
        "\n",
        "2) Alternative Hypothesis: (the opposite of the null)\n",
        "\n",
        "𝑥¯1≠𝑥¯2 \n",
        "\n",
        "𝑥¯1−𝑥¯2≠0 \n",
        "3) Confidence Level: The probability of seing a true result in spite of random variability. (How often do I want to make sure that I'm right.) Typically: 95%, 99%, 99.9%"
      ]
    },
    {
      "cell_type": "code",
      "metadata": {
        "id": "0C-vNacGqTjC",
        "colab_type": "code",
        "colab": {}
      },
      "source": [
        "# import"
      ],
      "execution_count": 0,
      "outputs": []
    },
    {
      "cell_type": "code",
      "metadata": {
        "id": "HUtUS89rqTjE",
        "colab_type": "code",
        "colab": {}
      },
      "source": [
        "# sample 1\n",
        "mu1 = 180 # sample mean\n",
        "sigma1 = 5 # standard deviation"
      ],
      "execution_count": 0,
      "outputs": []
    },
    {
      "cell_type": "code",
      "metadata": {
        "id": "LV51DlI9qTjH",
        "colab_type": "code",
        "colab": {}
      },
      "source": [
        "# sample 2\n",
        "mu2 = 178.5 # sample mean\n",
        "sigma2 = 4.25 # standard deviation\n"
      ],
      "execution_count": 0,
      "outputs": []
    },
    {
      "cell_type": "code",
      "metadata": {
        "id": "M5ZXvAzAqTjK",
        "colab_type": "code",
        "colab": {}
      },
      "source": [
        "# compare\n"
      ],
      "execution_count": 0,
      "outputs": []
    },
    {
      "cell_type": "code",
      "metadata": {
        "id": "nf3Ej9DHqTjM",
        "colab_type": "code",
        "colab": {}
      },
      "source": [
        "# what is the p-value?\n"
      ],
      "execution_count": 0,
      "outputs": []
    },
    {
      "cell_type": "markdown",
      "metadata": {
        "id": "3P9vOTtAqTjP",
        "colab_type": "text"
      },
      "source": [
        "4) T Statistic: A value that falls along a t-distribution.\n",
        "\n",
        "A vertical bar that falls on our t-distribution\n",
        "5) P-value: The p-value that we're interested in is (1-Confidence Level) or in our case: .05\n",
        "\n",
        "The probability of getting this test result (t-statistic) due to random chance.\n",
        "\n",
        "The probability of our null hypothesis being true.\n",
        "\n",
        "6) Conclusions:\n",
        "\n",
        "Due to observing a t-statistic of 8.9 and a resulting p-value of .00000000000000000109, we reject the null hypothesis that the cooking times of these two burners is the same, and suggest the alternative hypothesis, that they are different.\n",
        "\n",
        "(Because our p-value was less than .05, we reject the null hypothesis)."
      ]
    },
    {
      "cell_type": "markdown",
      "metadata": {
        "colab_type": "text",
        "id": "5BvYLMjadAnu"
      },
      "source": [
        "# Why do we use the t-distribution in hypothesis tests?\n",
        "\n",
        "![t-distribution-low-dof](https://lambdachops.com/img/t-distribution-low-dof.png)\n",
        "\n",
        "![t-distribution-approximates-normal](https://github.com/ryanallredblog/ryanallredblog.github.io/blob/master/img/t-distribution-approximates-normal.png?raw=true)\n",
        "\n",
        "### Helpful video on why we use the t-distribution\n",
        "\n",
        "<https://www.youtube.com/watch?v=Uv6nGIgZMVw>\n",
        "\n",
        "However, in order to understand it you'll need to understand what a z-score is:\n",
        "\n",
        "A z-score calculates the number of standard deviations an observations lies from the population mean. The problem is that in real-world situations, we don't know what the sample mean is, so we have to turn to using the sample mean to estimate the population mean. Because the sample mean is generated from a sample and used to estimate the population mean with some level of uncertainty, it also has its own distribution a nd spread. This means that for low sample sizes both our estimates of the sample mean and sample population are not very precise, they're kind of spread out. It's this spread that makes the t-distribution wider than the normal distribution for low sample sizes. However, with the larger the sample size, the closer the t-distribution approximates the normal distribution.\n"
      ]
    },
    {
      "cell_type": "markdown",
      "metadata": {
        "colab_type": "text",
        "id": "FMhDKOFND0qY"
      },
      "source": [
        "## Student's T Test\n",
        "\n",
        ">Assuming data come from a Normal distribution, the t test provides a way to test whether the sample mean (that is the mean calculated from the data) is a good estimate of the population mean. \n",
        "\n",
        "The derivation of the t-distribution was first published in 1908 by William Gosset while working for the Guinness Brewery in Dublin. Due to proprietary issues, he had to publish under a pseudonym, and so he used the name Student.\n",
        "\n",
        "The t-distribution is essentially a distribution of means of normaly distributed data. When we use a t-statistic, we are  checking that a mean fails within a certain $\\alpha$ probability of the mean of means."
      ]
    },
    {
      "cell_type": "code",
      "metadata": {
        "colab_type": "code",
        "id": "fQ9rkLJmEbsk",
        "colab": {}
      },
      "source": [
        ""
      ],
      "execution_count": 0,
      "outputs": []
    },
    {
      "cell_type": "code",
      "metadata": {
        "colab_type": "code",
        "id": "RyNKPt_tJk86",
        "colab": {}
      },
      "source": [
        ""
      ],
      "execution_count": 0,
      "outputs": []
    },
    {
      "cell_type": "code",
      "metadata": {
        "colab_type": "code",
        "id": "seQv5unnJvpM",
        "colab": {}
      },
      "source": [
        "i = 10\n",
        "for sample in [t_df10, t_df100, t_df1000]:\n",
        "    print(f\"t - distribution with {i} degrees of freedom\")\n",
        "    print(\"---\" * 10)\n",
        "    print(f\"Mean: {sample.mean()}\")\n",
        "    print(f\"Standard Deviation: {sample.std()}\")\n",
        "    print(f\"Variance: {sample.var()}\")\n",
        "    i = i*10"
      ],
      "execution_count": 0,
      "outputs": []
    },
    {
      "cell_type": "markdown",
      "metadata": {
        "colab_type": "text",
        "id": "FOvEGMysLaE2"
      },
      "source": [
        "Why is it different from normal? To better reflect the tendencies of small data and situations with unknown population standard deviation. In other words, the normal distribution is still the nice pure ideal (thanks to the central limit theorem), but the t-distribution is much more useful in many real-world situations."
      ]
    },
    {
      "cell_type": "markdown",
      "metadata": {
        "colab_type": "text",
        "id": "1yx_QilAEC6o"
      },
      "source": [
        "## Live Lecture - let's perform and interpret a t-test\n",
        "\n",
        "We'll generate our own data, so we can know and alter the \"ground truth\" that the t-test should find. We will learn about p-values and how to interpret \"statistical significance\" based on the output of a hypothesis test. We will also dig a bit deeper into how the test statistic is calculated based on the sample error, and visually what it looks like to have 1 or 2 \"tailed\" t-tests."
      ]
    },
    {
      "cell_type": "markdown",
      "metadata": {
        "id": "wLtI93nOqTjc",
        "colab_type": "text"
      },
      "source": [
        "#### Get and prepare the data"
      ]
    },
    {
      "cell_type": "code",
      "metadata": {
        "colab_type": "code",
        "id": "BuysRPs-Ed0v",
        "colab": {}
      },
      "source": [
        "# import    # was \"imports\"\n",
        "from scipy.stats import ttest_ind"
      ],
      "execution_count": 0,
      "outputs": []
    },
    {
      "cell_type": "code",
      "metadata": {
        "id": "NE8nwY8Q5yLG",
        "colab_type": "code",
        "colab": {}
      },
      "source": [
        "# a ="
      ],
      "execution_count": 0,
      "outputs": []
    },
    {
      "cell_type": "code",
      "metadata": {
        "id": "1rmdUr_b5EOH",
        "colab_type": "code",
        "colab": {}
      },
      "source": [
        "# compare\n",
        "print(ttest_ind(a, b))\n",
        "print(ttest_ind(a, b)).statistic\n",
        "print(ttest_ind(a, b)).pvalue"
      ],
      "execution_count": 0,
      "outputs": []
    },
    {
      "cell_type": "code",
      "metadata": {
        "id": "JKEogqlm6CD5",
        "colab_type": "code",
        "colab": {}
      },
      "source": [
        "# interpret the p-value \n",
        "# 95% confidence interval (alpha = .05)  In statistics, the p-value is the probability of obtaining the observed results of a test, assuming that the null hypothesis is correct  ALso 2. \n",
        "the prob that the observed result did NOT happen by chance  3. yr confindence yr sampl refl yr pop)"
      ],
      "execution_count": 0,
      "outputs": []
    },
    {
      "cell_type": "code",
      "metadata": {
        "id": "oBXaG2dM5R0Q",
        "colab_type": "code",
        "colab": {}
      },
      "source": [
        ""
      ],
      "execution_count": 0,
      "outputs": []
    },
    {
      "cell_type": "code",
      "metadata": {
        "id": "ToPhRcSs6ucx",
        "colab_type": "code",
        "colab": {}
      },
      "source": [
        "t-value is signal (numerator) to noise (denominator) t = (x bar - mu initial) s/sq rt of yr sample n"
      ],
      "execution_count": 0,
      "outputs": []
    },
    {
      "cell_type": "code",
      "metadata": {
        "id": "2rePRe4JAT4e",
        "colab_type": "code",
        "colab": {}
      },
      "source": [
        ""
      ],
      "execution_count": 0,
      "outputs": []
    },
    {
      "cell_type": "markdown",
      "metadata": {
        "id": "Um_DvYLUqTjg",
        "colab_type": "text"
      },
      "source": [
        "**get the data**  \n",
        "https://archive.ics.uci.edu/ml/machine-learning-databases/voting-records/house-votes-84.data"
      ]
    },
    {
      "cell_type": "code",
      "metadata": {
        "id": "ZrDP41BvqTjh",
        "colab_type": "code",
        "colab": {}
      },
      "source": [
        "# make into a dataframe\n",
        "column_headers = ['party','handicapped-infants','water-project',\n",
        "                          'budget','physician-fee-freeze', 'el-salvador-aid',\n",
        "                          'religious-groups','anti-satellite-ban',\n",
        "                          'aid-to-contras','mx-missile','immigration',\n",
        "                          'synfuels', 'education', 'right-to-sue','crime','duty-free',\n",
        "                          'south-africa']\n",
        "\n",
        "df = pd.read_csv('house-vots-84.data', header = None, \n",
        "df.head()\n",
        "\n"
      ],
      "execution_count": 0,
      "outputs": []
    },
    {
      "cell_type": "code",
      "metadata": {
        "id": "8cx7T2zbARnb",
        "colab_type": "code",
        "colab": {}
      },
      "source": [
        ""
      ],
      "execution_count": 0,
      "outputs": []
    },
    {
      "cell_type": "code",
      "metadata": {
        "id": "jhUpKknXqTji",
        "colab_type": "code",
        "colab": {}
      },
      "source": [
        "# recode votes as numeric = DATA CLEANING\n",
        "df = df.replace ({'y':1, 'n':0})"
      ],
      "execution_count": 0,
      "outputs": []
    },
    {
      "cell_type": "code",
      "metadata": {
        "id": "q2jh_BJ5qTjk",
        "colab_type": "code",
        "colab": {}
      },
      "source": [
        "# how many from each party?\n",
        "df['party'].value_counts()"
      ],
      "execution_count": 0,
      "outputs": []
    },
    {
      "cell_type": "code",
      "metadata": {
        "id": "1HhrsAkSqTjm",
        "colab_type": "code",
        "colab": {}
      },
      "source": [
        "# how did Republicans vote?\n",
        "\n",
        "# cre8 a sub sample data set called rep\n",
        "rep = df[df['party'] == 'republican'] \n",
        "len(rep)"
      ],
      "execution_count": 0,
      "outputs": []
    },
    {
      "cell_type": "code",
      "metadata": {
        "id": "QvCSYoIYqTjp",
        "colab_type": "code",
        "colab": {}
      },
      "source": [
        "# how did Democrats vote?\n",
        "rep = df[df['party'] == 'democrat'] \n",
        "len(dem)  #counts Nan Vals ALSO"
      ],
      "execution_count": 0,
      "outputs": []
    },
    {
      "cell_type": "code",
      "metadata": {
        "id": "uGHIJb7hqTjr",
        "colab_type": "code",
        "colab": {}
      },
      "source": [
        "# the percentage of republicans who voted \"yes\" (1) \n",
        "# on the handicapped-infants bill\n",
        "\n",
        "# len() is counting NaN values too!"
      ],
      "execution_count": 0,
      "outputs": []
    },
    {
      "cell_type": "code",
      "metadata": {
        "id": "fDHVF0Y6qTju",
        "colab_type": "code",
        "colab": {}
      },
      "source": [
        "# Remove NaN values from this column\n",
        "col = rep['handicapped-infants']\n",
        "np.isnan(col)\n",
        "# The same column as before, but I've dropped the NaN values\n",
        "handicapped_infants_no_nans=col[~np.isnan(col)] # ~ means opposite of , EXCEPT when there is? a Nan, aka when NOT True\n"
      ],
      "execution_count": 0,
      "outputs": []
    },
    {
      "cell_type": "code",
      "metadata": {
        "id": "U1YRg6lDqTjw",
        "colab_type": "code",
        "colab": {}
      },
      "source": [
        "# Average rate of voting 'yes' on the handicapped-infants\n",
        "rep['handicapped_infants'].mean()"
      ],
      "execution_count": 0,
      "outputs": []
    },
    {
      "cell_type": "markdown",
      "metadata": {
        "id": "rHQOELkKqTjy",
        "colab_type": "text"
      },
      "source": [
        "#### water project bill (two-sample t-test)"
      ]
    },
    {
      "cell_type": "markdown",
      "metadata": {
        "id": "lXQIwKEOqTjy",
        "colab_type": "text"
      },
      "source": [
        "1) Null Hypothesis: There is no difference between average voting rates (levels of support) for the water-project bill between democrats and republicans in the house of representatives. (support is equal)\n",
        "\n",
        "𝑥¯1==𝑥¯2 \n",
        "Where  𝑥¯1  is the mean of republican votes and  𝑥¯2  is the mean of democrat votes.\n",
        "\n",
        "2) Alternative Hypothesis:\n",
        "\n",
        "𝑥¯1≠𝑥¯2 \n",
        "Levels of support between the two parties will differ.\n",
        "\n",
        "3) 95% Confidence Level"
      ]
    },
    {
      "cell_type": "code",
      "metadata": {
        "id": "79F3UdRiqTjz",
        "colab_type": "code",
        "colab": {}
      },
      "source": [
        "# import \n",
        "import scipystats  import ttest_ind"
      ],
      "execution_count": 0,
      "outputs": []
    },
    {
      "cell_type": "code",
      "metadata": {
        "id": "SeKUbp1ZqTj1",
        "colab_type": "code",
        "colab": {}
      },
      "source": [
        "# What is the mean support of Republicans?\n",
        "rep['water-project'].mean()"
      ],
      "execution_count": 0,
      "outputs": []
    },
    {
      "cell_type": "code",
      "metadata": {
        "id": "on6T5e6nqTj2",
        "colab_type": "code",
        "colab": {}
      },
      "source": [
        "# what is the mean support of Democrats?\n",
        "dem['water-project'].mean()"
      ],
      "execution_count": 0,
      "outputs": []
    },
    {
      "cell_type": "code",
      "metadata": {
        "id": "uyyQt0OpqTj4",
        "colab_type": "code",
        "colab": {}
      },
      "source": [
        "# compare with a t-test:\n",
        "ttest_ind(rep['water-project'], dem['water-project'].mean()"
      ],
      "execution_count": 0,
      "outputs": []
    },
    {
      "cell_type": "code",
      "metadata": {
        "id": "NssjeC3IqTj6",
        "colab_type": "code",
        "colab": {}
      },
      "source": [
        "# account for NaN's\n",
        "Ttest_ind # want higher t stat and low p val"
      ],
      "execution_count": 0,
      "outputs": []
    },
    {
      "cell_type": "code",
      "metadata": {
        "id": "I_4PkGZzqTj7",
        "colab_type": "code",
        "colab": {}
      },
      "source": [
        "# You could also remove NaN values from this column\n"
      ],
      "execution_count": 0,
      "outputs": []
    },
    {
      "cell_type": "code",
      "metadata": {
        "id": "oKOmmGT2qTj9",
        "colab_type": "code",
        "colab": {}
      },
      "source": [
        "# My sample sizes for the two samples:\n"
      ],
      "execution_count": 0,
      "outputs": []
    },
    {
      "cell_type": "markdown",
      "metadata": {
        "id": "M5v_K3XOqTj_",
        "colab_type": "text"
      },
      "source": [
        "When I have multiple samples (using a 2-sample t-test) I will use the smaller of the two samples to determine my degrees of freedom\n",
        "\n",
        "So in this case, df = 148-1 = 147"
      ]
    },
    {
      "cell_type": "markdown",
      "metadata": {
        "id": "31uw4nzqqTj_",
        "colab_type": "text"
      },
      "source": [
        "4) T-statistic: .089\n",
        "\n",
        "5) P-value: .929\n",
        "\n",
        "I want to reject the null hypothesis if my p-value is < .05 or if my p-value is less than (1-confidence_level)\n",
        "\n",
        "Conclusion: due to a p-value of .929 I fail to reject the null hypothesis that republican and democrat support for the water-project bill is different.\n",
        "\n",
        "I never say that I \"accept\" the null hypothesis, I just say that I \"fail to reject\""
      ]
    },
    {
      "cell_type": "markdown",
      "metadata": {
        "id": "rNOmoeb8qTkA",
        "colab_type": "text"
      },
      "source": [
        "#### 1-sample T-test example"
      ]
    },
    {
      "cell_type": "markdown",
      "metadata": {
        "id": "06ZYlyIoqTkD",
        "colab_type": "text"
      },
      "source": [
        "I'm only using one sample, and my null hypothesis will be different.\n",
        "\n",
        "We're looking at Democrat support of the South-Africa bill\n",
        "\n",
        "1a) Null Hypothesis:\n",
        "\n",
        "𝑥¯1  (average dem support for SA bill) == 1.\n",
        "\n",
        "This says that 100% of democrats support this bill. Full support.\n",
        "\n",
        "1b) Null Hypothesis:\n",
        "\n",
        "𝑥¯1  (average dem support for SA bill) == .5\n",
        "\n",
        "This says that 50% of democrats support this bill. The party is split.\n",
        "\n",
        "1c) Null Hypothesis:\n",
        "\n",
        "𝑥¯1  (average dem support for SA bill) == 0.\n",
        "\n",
        "This says that 0% of democrats support this bill. The party is against the bill.\n",
        "\n",
        "1d) Null Hypothesis:\n",
        "\n",
        "𝑥¯1  (average dem support for SA bill) == .78245\n",
        "\n",
        "This says that 0% of democrats support this bill. The party is against the bill.\n",
        "\n",
        "**With 1-sample t-tests I can frame that I'm asking through my choice of null hypothesis**"
      ]
    },
    {
      "cell_type": "markdown",
      "metadata": {
        "id": "Qo20Pn9yqTkD",
        "colab_type": "text"
      },
      "source": [
        "1) Null Hypothesis:  𝑥¯1  (average dem support for SA bill) == .5\n",
        "\n",
        "This says that 50% of democrats support this bill. The party is split.\n",
        "\n",
        "2) Alternative Hypothesis: Support is not equal to .5 or 50%\n",
        "\n",
        "𝑥¯1  (average dem support for SA bill)  ≠  .5\n",
        "\n",
        "This says nothing about if support is greater than or less than 50%, it's just saying that it's not 50% - it's different, it's something other than 50%.\n",
        "\n",
        "3) Confidence Level: 95%"
      ]
    },
    {
      "cell_type": "code",
      "metadata": {
        "id": "S9YWaLvrqTkE",
        "colab_type": "code",
        "colab": {}
      },
      "source": [
        "# import\n",
        "from scipy.stats import ttest_1samp, ttest_ind"
      ],
      "execution_count": 0,
      "outputs": []
    },
    {
      "cell_type": "code",
      "metadata": {
        "id": "-SpGAaRkEElj",
        "colab_type": "code",
        "colab": {}
      },
      "source": [
        "# this means that: IN OUR SAMPLE, 93% of dems support \n",
        "dem['south-africa']"
      ],
      "execution_count": 0,
      "outputs": []
    },
    {
      "cell_type": "code",
      "metadata": {
        "id": "HxP1i4fnqTkI",
        "colab_type": "code",
        "colab": {}
      },
      "source": [
        "# conduct the t-test\n",
        "ttest_1samp(dem['south-africa'], 1, nan_policy= 'omit')"
      ],
      "execution_count": 0,
      "outputs": []
    },
    {
      "cell_type": "markdown",
      "metadata": {
        "id": "DdmSU1gTqTkK",
        "colab_type": "text"
      },
      "source": [
        "Due to a p-value of (basically 0) we reject the null hypothesis that democrat support for the South Africa bill is .5 (split party) and conclude that it is something different.\n"
      ]
    },
    {
      "cell_type": "code",
      "metadata": {
        "id": "ItnRnypxqTkK",
        "colab_type": "code",
        "colab": {}
      },
      "source": [
        "# what is the average support among Democrats?\n"
      ],
      "execution_count": 0,
      "outputs": []
    },
    {
      "cell_type": "code",
      "metadata": {
        "id": "ZA_YhKOEqTkM",
        "colab_type": "code",
        "colab": {}
      },
      "source": [
        "# is it significantly different from 90%?\n",
        "ttest_1samp(dem['south-africa'], .9, nan_policy='omit\n",
        "')"
      ],
      "execution_count": 0,
      "outputs": []
    },
    {
      "cell_type": "markdown",
      "metadata": {
        "id": "nDbYmPRbqTkO",
        "colab_type": "text"
      },
      "source": [
        "Fail to reject the null hypothesis:\n",
        "\n",
        "I conclude that that democrat support for the South Africa bill is not significantly different from 90%."
      ]
    },
    {
      "cell_type": "code",
      "metadata": {
        "id": "pOBM6muRqTkP",
        "colab_type": "code",
        "colab": {}
      },
      "source": [
        "# what about 89.9?\n",
        "ttest_1samp(dem['south-africa'], .899, nan_policy='omit\n",
        "')"
      ],
      "execution_count": 0,
      "outputs": []
    },
    {
      "cell_type": "markdown",
      "metadata": {
        "id": "0N00VF5cqTkS",
        "colab_type": "text"
      },
      "source": [
        "Due to a p-value of .048, I reject the null hypothesis that democrat support for this bill is 89.9% and suggest the alternative that it is different from 89.9%"
      ]
    },
    {
      "cell_type": "markdown",
      "metadata": {
        "id": "az6dIW0AqTkT",
        "colab_type": "text"
      },
      "source": [
        "X = load_wine()\n",
        "x Wine Example"
      ]
    },
    {
      "cell_type": "code",
      "metadata": {
        "id": "pv-pWZ1kE0Qz",
        "colab_type": "code",
        "colab": {}
      },
      "source": [
        ""
      ],
      "execution_count": 0,
      "outputs": []
    },
    {
      "cell_type": "code",
      "metadata": {
        "id": "sdR-BRrgqTkU",
        "colab_type": "code",
        "colab": {}
      },
      "source": [
        "# load the data (wines from Italy)\n",
        "from sklearn.datasets import load_wine\n",
        "X = load,wine()\n",
        "X.keys()"
      ],
      "execution_count": 0,
      "outputs": []
    },
    {
      "cell_type": "code",
      "metadata": {
        "id": "ZfBuUEwAqTkV",
        "colab_type": "code",
        "colab": {}
      },
      "source": [
        "# put that into a dataframe\n",
        "import pandas as pd\n",
        "wine = pd.DataFrame(X['data'], columns=X['feature_names'])"
      ],
      "execution_count": 0,
      "outputs": []
    },
    {
      "cell_type": "code",
      "metadata": {
        "id": "qaFwW3ShqTkX",
        "colab_type": "code",
        "colab": {}
      },
      "source": [
        "# take a look\n",
        "print(wine.shape)\n",
        "wine.head"
      ],
      "execution_count": 0,
      "outputs": []
    },
    {
      "cell_type": "code",
      "metadata": {
        "id": "bqgTyHoGqTkY",
        "colab_type": "code",
        "colab": {}
      },
      "source": [
        "# examine a column. ash for all 3 origin groups.\n",
        "import seaborn as sns\n",
        "sns.kdeplot(wine['ash'])"
      ],
      "execution_count": 0,
      "outputs": []
    },
    {
      "cell_type": "code",
      "metadata": {
        "id": "oATcmiLjqTkZ",
        "colab_type": "code",
        "colab": {}
      },
      "source": [
        "# now for each group. Are these groups different or the same?\n",
        "colorlist=['crimson', 'teal', 'gold']\n",
        "for x in [0,1,2]:   # regions of Italy 1-3\n",
        "  sns.kdeplot(wine[wine['origin']==x][ash])"
      ],
      "execution_count": 0,
      "outputs": []
    },
    {
      "cell_type": "code",
      "metadata": {
        "id": "H_F1TScYqTka",
        "colab_type": "code",
        "colab": {}
      },
      "source": [
        "# are they different or the same?\n",
        "for x in [0,1,2]:\n",
        "  "
      ],
      "execution_count": 0,
      "outputs": []
    },
    {
      "cell_type": "code",
      "metadata": {
        "id": "vokI0CgpqTkc",
        "colab_type": "code",
        "colab": {}
      },
      "source": [
        "# create two samples from the two origins\n",
        "  # A (test? called) nova to compare all 3 regions\n",
        "  ash0=[wine['origin']==0]['ash'] # just want ash var not all\n",
        "  ash1=[wine['origin']==0]['ash']"
      ],
      "execution_count": 0,
      "outputs": []
    },
    {
      "cell_type": "code",
      "metadata": {
        "id": "Xm0f3l5dqTkd",
        "colab_type": "code",
        "colab": {}
      },
      "source": [
        "# compare samples 0 and 1. do they have the same ash content in the soil?\n",
        "stat, pvalue = ttest_ind(ash0, ash1)"
      ],
      "execution_count": 0,
      "outputs": []
    },
    {
      "cell_type": "code",
      "metadata": {
        "id": "JB4LOM2SqTke",
        "colab_type": "code",
        "colab": {}
      },
      "source": [
        "# is the pvalue less than 0.05?\n",
        "pvalue <=0.05"
      ],
      "execution_count": 0,
      "outputs": []
    },
    {
      "cell_type": "markdown",
      "metadata": {
        "id": "V53g5xHBqTkg",
        "colab_type": "text"
      },
      "source": [
        "#### Alcohol content"
      ]
    },
    {
      "cell_type": "code",
      "metadata": {
        "id": "gD5axyQfqTkh",
        "colab_type": "code",
        "colab": {}
      },
      "source": [
        "# compare mean alcohol for two origin groups\n",
        "for group in range(0,2):\n",
        "  sns.kdplot(wine[wine['origin'])==group]['alcohol_content']"
      ],
      "execution_count": 0,
      "outputs": []
    },
    {
      "cell_type": "code",
      "metadata": {
        "id": "_EP-OJHSqTki",
        "colab_type": "code",
        "colab": {}
      },
      "source": [
        "# create the groups\n",
        "alc0=wine[wine['origin']==0] ['alcohol']\n",
        "alc1=wine[wine['origin']==0] ['alcohol']"
      ],
      "execution_count": 0,
      "outputs": []
    },
    {
      "cell_type": "code",
      "metadata": {
        "id": "UeuMXVWqqTkl",
        "colab_type": "code",
        "colab": {}
      },
      "source": [
        "# run the t-test and interpret the p-value\n",
        "ttest_ind(alc0, alc1).pvalue # the regions prod diff amnts of "
      ],
      "execution_count": 0,
      "outputs": []
    },
    {
      "cell_type": "code",
      "metadata": {
        "id": "QklM8jW6qTkn",
        "colab_type": "code",
        "colab": {}
      },
      "source": [
        "# format so it's not in scientific notation\n"
      ],
      "execution_count": 0,
      "outputs": []
    },
    {
      "cell_type": "markdown",
      "metadata": {
        "id": "8sFr1RDgqTkp",
        "colab_type": "text"
      },
      "source": [
        "#### Same analysis, on hue"
      ]
    },
    {
      "cell_type": "code",
      "metadata": {
        "id": "Np4QRTkBqTkp",
        "colab_type": "code",
        "colab": {}
      },
      "source": [
        "#display the means\n",
        "for group in range (0,2):\n",
        "  print(wine[wine['origin']==group]['hue'].mean())"
      ],
      "execution_count": 0,
      "outputs": []
    },
    {
      "cell_type": "code",
      "metadata": {
        "id": "QFlMZKqLqTkq",
        "colab_type": "code",
        "colab": {}
      },
      "source": [
        "# create the groups\n",
        "hue0=wine[wine['origin']]  #when t signal low, means alot of noise and not much signal"
      ],
      "execution_count": 0,
      "outputs": []
    },
    {
      "cell_type": "code",
      "metadata": {
        "id": "1Fe_ZTGqqTkr",
        "colab_type": "code",
        "colab": {}
      },
      "source": [
        "# run the t-test\n"
      ],
      "execution_count": 0,
      "outputs": []
    },
    {
      "cell_type": "code",
      "metadata": {
        "id": "QPsG79D_qTkt",
        "colab_type": "code",
        "colab": {}
      },
      "source": [
        ""
      ],
      "execution_count": 0,
      "outputs": []
    },
    {
      "cell_type": "code",
      "metadata": {
        "id": "tT-YZ4CyqTku",
        "colab_type": "code",
        "colab": {}
      },
      "source": [
        ""
      ],
      "execution_count": 0,
      "outputs": []
    },
    {
      "cell_type": "code",
      "metadata": {
        "id": "rtQV1VunqTkz",
        "colab_type": "code",
        "colab": {}
      },
      "source": [
        ""
      ],
      "execution_count": 0,
      "outputs": []
    },
    {
      "cell_type": "code",
      "metadata": {
        "id": "pnYTV3SNAMus",
        "colab_type": "code",
        "colab": {}
      },
      "source": [
        ""
      ],
      "execution_count": 0,
      "outputs": []
    },
    {
      "cell_type": "markdown",
      "metadata": {
        "colab_type": "text",
        "id": "wiq83guLcuAE"
      },
      "source": [
        "# Resources\n",
        "\n",
        "- https://homepage.divms.uiowa.edu/~mbognar/applets/t.html\n",
        "- https://rpsychologist.com/d3/tdist/\n",
        "- https://gallery.shinyapps.io/tdist/\n",
        "- https://en.wikipedia.org/wiki/Standard_deviation#Sample_standard_deviation_of_metabolic_rate_of_northern_fulmars\n",
        "- https://www.khanacademy.org/math/ap-statistics/two-sample-inference/two-sample-t-test-means/v/two-sample-t-test-for-difference-of-means"
      ]
    }
  ]
}