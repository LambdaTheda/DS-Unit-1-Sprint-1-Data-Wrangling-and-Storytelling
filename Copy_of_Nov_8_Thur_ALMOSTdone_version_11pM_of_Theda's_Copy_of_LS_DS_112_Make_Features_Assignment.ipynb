{
  "nbformat": 4,
  "nbformat_minor": 0,
  "metadata": {
    "colab": {
      "name": "Copy of Nov 8 Thur ALMOSTdone version 11pM of Theda's Copy of LS_DS_112_Make_Features_Assignment.ipynb",
      "provenance": [],
      "collapsed_sections": [],
      "include_colab_link": true
    },
    "kernelspec": {
      "display_name": "Python 3",
      "language": "python",
      "name": "python3"
    },
    "language_info": {
      "codemirror_mode": {
        "name": "ipython",
        "version": 3
      },
      "file_extension": ".py",
      "mimetype": "text/x-python",
      "name": "python",
      "nbconvert_exporter": "python",
      "pygments_lexer": "ipython3",
      "version": "3.7.1"
    }
  },
  "cells": [
    {
      "cell_type": "markdown",
      "metadata": {
        "id": "view-in-github",
        "colab_type": "text"
      },
      "source": [
        "<a href=\"https://colab.research.google.com/github/LambdaTheda/DS-Unit-1-Sprint-1-Data-Wrangling-and-Storytelling/blob/master/Copy_of_Nov_8_Thur_ALMOSTdone_version_11pM_of_Theda's_Copy_of_LS_DS_112_Make_Features_Assignment.ipynb\" target=\"_parent\"><img src=\"https://colab.research.google.com/assets/colab-badge.svg\" alt=\"Open In Colab\"/></a>"
      ]
    },
    {
      "cell_type": "markdown",
      "metadata": {
        "id": "SnDJqBLi0FYW",
        "colab_type": "text"
      },
      "source": [
        "<img align=\"left\" src=\"https://lever-client-logos.s3.amazonaws.com/864372b1-534c-480e-acd5-9711f850815c-1524247202159.png\" width=200> "
      ]
    },
    {
      "cell_type": "markdown",
      "metadata": {
        "id": "W5GjI1z5yNG4",
        "colab_type": "text"
      },
      "source": [
        "# Assignment:\n",
        "\n",
        "- Replicate the lesson code.\n",
        "\n",
        " - This means that if you haven't followed along already, type out the things that we did in class. Forcing your fingers to hit each key will help you internalize the syntax of what we're doing. Make sure you understand each line of code that you're writing, google things that you don't fully understand.\n",
        " - [Lambda Learning Method for DS - By Ryan Herr](https://docs.google.com/document/d/1ubOw9B3Hfip27hF2ZFnW3a3z9xAgrUDRReOEo-FHCVs/edit?usp=sharing)\n",
        "- Convert the `term` column from string to integer.\n",
        "- Make a column named `loan_status_is_great`. It should contain the integer 1 if `loan_status` is \"Current\" or \"Fully Paid.\" Else it should contain the integer 0.\n",
        "- Make `last_pymnt_d_month` and `last_pymnt_d_year` columns."
      ]
    },
    {
      "cell_type": "code",
      "metadata": {
        "id": "AazB4eFwym2p",
        "colab_type": "code",
        "outputId": "4cecdb50-bee7-4a57-edd9-eeebbd74bf11",
        "colab": {
          "base_uri": "https://localhost:8080/",
          "height": 222
        }
      },
      "source": [
        "##### Begin Working Here #####\n",
        "\n",
        "#Get LendingClub data\n",
        "!wget https://resources.lendingclub.com/LoanStats_2018Q4.csv.zip"
      ],
      "execution_count": 0,
      "outputs": [
        {
          "output_type": "stream",
          "text": [
            "--2019-11-09 05:05:04--  https://resources.lendingclub.com/LoanStats_2018Q4.csv.zip\n",
            "Resolving resources.lendingclub.com (resources.lendingclub.com)... 64.48.1.20\n",
            "Connecting to resources.lendingclub.com (resources.lendingclub.com)|64.48.1.20|:443... connected.\n",
            "HTTP request sent, awaiting response... 200 OK\n",
            "Length: unspecified [application/zip]\n",
            "Saving to: ‘LoanStats_2018Q4.csv.zip’\n",
            "\n",
            "LoanStats_2018Q4.cs     [                <=> ]  21.67M   794KB/s    in 28s     \n",
            "\n",
            "2019-11-09 05:05:33 (781 KB/s) - ‘LoanStats_2018Q4.csv.zip’ saved [22727580]\n",
            "\n"
          ],
          "name": "stdout"
        }
      ]
    },
    {
      "cell_type": "code",
      "metadata": {
        "id": "3m3JWkIs2CDC",
        "colab_type": "code",
        "outputId": "fa80f4e4-e8c3-49ff-9b21-dbaabdfab614",
        "colab": {
          "base_uri": "https://localhost:8080/",
          "height": 50
        }
      },
      "source": [
        "!unzip LoanStats_2018Q4.csv.zip"
      ],
      "execution_count": 0,
      "outputs": [
        {
          "output_type": "stream",
          "text": [
            "Archive:  LoanStats_2018Q4.csv.zip\n",
            "  inflating: LoanStats_2018Q4.csv    \n"
          ],
          "name": "stdout"
        }
      ]
    },
    {
      "cell_type": "code",
      "metadata": {
        "id": "Xcxqefa62LJI",
        "colab_type": "code",
        "colab": {}
      },
      "source": [
        "!head LoanStats_2018Q4.csv # reading 1st 5 rows of file using Scripting (bash)- easier bc can replace mult lines of code with fewer; the OS is protected against anything that isn't scripting\n",
        "                           # One can't read uncompressed zip files; \"looks\" like giberish to machine"
      ],
      "execution_count": 0,
      "outputs": []
    },
    {
      "cell_type": "code",
      "metadata": {
        "id": "_G2pxSkC8GQ6",
        "colab_type": "code",
        "colab": {}
      },
      "source": [
        "!tail LoanStats_2018Q4.csv # reading 1ast 5 rows of file"
      ],
      "execution_count": 0,
      "outputs": []
    },
    {
      "cell_type": "code",
      "metadata": {
        "id": "I8wKN6eH8ri1",
        "colab_type": "code",
        "colab": {}
      },
      "source": [
        "#Load LendingClub data\n",
        "\n",
        "import pandas as pd\n",
        "df = pd.read_csv('LoanStats_2018Q4.csv', skiprows=1, skipfooter=2,  engine='python')\n",
        "    # SKIPROWS: You can pass a list of row numbers to skiprows instead of an integer.\n",
        "\n",
        "    # By giving the function the integer 10, you're just skipping the first 10 lines.\n",
        "\n",
        "    # To keep the first row 0 (as the header) and then skip everything else up to row 10, you can write:\n",
        "\n",
        "    # pd.read_csv('test.csv', sep='|', skiprows=range(1, 10))\n",
        "\n",
        "    # SKIPFOOTER:  Indicates number of rows to skip from bottom of the file.\n",
        "\n",
        "    # Ensure that engine parameter is ‘python’ and not ‘c’ while using skipfooter.\n",
        "\n",
        "    # So to skip last 4 rows of a file, you can use skipfooter = 4\n",
        "\n",
        "    # import pandas as pd\n",
        "    # df = pd.read_csv(\"f500.csv\", skipfooter = 4, engine = 'python')\n",
        "\n",
        "import pandas as pd\n",
        "df.head()"
      ],
      "execution_count": 0,
      "outputs": []
    },
    {
      "cell_type": "code",
      "metadata": {
        "id": "kMQ9QiCM_wz5",
        "colab_type": "code",
        "colab": {}
      },
      "source": [
        "# What is the shape of my file?\n",
        "\n",
        "print(df.shape)  #shape is an attribute; returns (Rows, Columns)\n",
        "print(df.columns)"
      ],
      "execution_count": 0,
      "outputs": []
    },
    {
      "cell_type": "code",
      "metadata": {
        "id": "OzVgSkS4AJgh",
        "colab_type": "code",
        "colab": {}
      },
      "source": [
        "df.shape"
      ],
      "execution_count": 0,
      "outputs": []
    },
    {
      "cell_type": "code",
      "metadata": {
        "id": "-VEjG9wBANpU",
        "colab_type": "code",
        "colab": {}
      },
      "source": [
        "# How much missing data do I have?\n",
        "\n",
        "# look at subset of data rows and columns:\n",
        "pd.options.display.max_rows=999\n",
        "pd.options.display.max_columns=100\n",
        "\n",
        "# look for missing values via summation of Null values,\n",
        "# https://pandas.pydata.org/pandas-docs/stable/reference/api/pandas.DataFrame.sort_values.html\n",
        "# ascending= False will return sorted data in descending order (largest to smallest); True is default\n",
        "df.isnull().sum().sort_values(ascending=False)"
      ],
      "execution_count": 0,
      "outputs": []
    },
    {
      "cell_type": "code",
      "metadata": {
        "id": "EYzm7v2dRWuz",
        "colab_type": "code",
        "colab": {}
      },
      "source": [
        "# Work with strings\n",
        "\n",
        "# Let's identify a column that shouldn't be a string.\n",
        "df['int_rate'].head()"
      ],
      "execution_count": 0,
      "outputs": []
    },
    {
      "cell_type": "code",
      "metadata": {
        "id": "XgR0-sr1RsAg",
        "colab_type": "code",
        "colab": {}
      },
      "source": [
        "# what is the data type of this column?\n",
        "df['int_rate'].dtype  # returns dtype('O') for String"
      ],
      "execution_count": 0,
      "outputs": []
    },
    {
      "cell_type": "code",
      "metadata": {
        "id": "4XcawhPQR3nL",
        "colab_type": "code",
        "outputId": "22bdcae9-b166-4378-d89b-4367c62122b5",
        "colab": {
          "base_uri": "https://localhost:8080/",
          "height": 50
        }
      },
      "source": [
        "# what is the value of the first cell in this column?\n",
        "\n",
        "# retrieve/extract row via df.loc[] DataFrame.loc[] method is a method that takes only index labels and returns row or dataframe if the index label exists in the caller data frame.\n",
        "int_rate0 = df.loc[0, 'int_rate']  # 0 for 1st cell\n",
        "print(int_rate0)\n",
        "int_rate0                          # call df"
      ],
      "execution_count": 0,
      "outputs": [
        {
          "output_type": "stream",
          "text": [
            " 14.47%\n"
          ],
          "name": "stdout"
        },
        {
          "output_type": "execute_result",
          "data": {
            "text/plain": [
              "' 14.47%'"
            ]
          },
          "metadata": {
            "tags": []
          },
          "execution_count": 11
        }
      ]
    },
    {
      "cell_type": "code",
      "metadata": {
        "id": "eQsg-1c3pym3",
        "colab_type": "code",
        "outputId": "2e647c99-f6bd-4e07-ec64-f24486aefbd8",
        "colab": {
          "base_uri": "https://localhost:8080/",
          "height": 34
        }
      },
      "source": [
        "# we need a python method for removing string values\n",
        "# https://www.programiz.com › python-programming › methods › strip\n",
        "# Python String strip() The strip() method returns a copy of the string with both leading and trailing characters removed (based on the string argument passed). The strip() removes characters from both left and right based on the argument (a string specifying the set of characters to be removed).\n",
        "int_rate0.strip()"
      ],
      "execution_count": 0,
      "outputs": [
        {
          "output_type": "execute_result",
          "data": {
            "text/plain": [
              "'14.47%'"
            ]
          },
          "metadata": {
            "tags": []
          },
          "execution_count": 12
        }
      ]
    },
    {
      "cell_type": "code",
      "metadata": {
        "id": "ZyFLBGnhrJ23",
        "colab_type": "code",
        "colab": {}
      },
      "source": [
        "# get rid of the percent sign\n",
        "int_rate0.strip('%')"
      ],
      "execution_count": 0,
      "outputs": []
    },
    {
      "cell_type": "code",
      "metadata": {
        "id": "6ncVx7EfrYhj",
        "colab_type": "code",
        "outputId": "a38b4712-efeb-4408-b6c2-10f981180839",
        "colab": {
          "base_uri": "https://localhost:8080/",
          "height": 34
        }
      },
      "source": [
        "# get rid of both using \"chained methods\"\n",
        "int_rate0.strip().strip('%')"
      ],
      "execution_count": 0,
      "outputs": [
        {
          "output_type": "execute_result",
          "data": {
            "text/plain": [
              "'14.47'"
            ]
          },
          "metadata": {
            "tags": []
          },
          "execution_count": 13
        }
      ]
    },
    {
      "cell_type": "code",
      "metadata": {
        "id": "tzi_KJBAr0Fu",
        "colab_type": "code",
        "colab": {}
      },
      "source": [
        "# Check which version of pandas\n",
        "pd.__version__ # 2 underscores twice\n"
      ],
      "execution_count": 0,
      "outputs": []
    },
    {
      "cell_type": "code",
      "metadata": {
        "id": "voyIiUDjsOZb",
        "colab_type": "code",
        "colab": {}
      },
      "source": [
        "# Finally, we can now convert from string to float\n",
        "float(int_rate0.strip().strip('%'))"
      ],
      "execution_count": 0,
      "outputs": []
    },
    {
      "cell_type": "code",
      "metadata": {
        "id": "GapuWlW6t_mx",
        "colab_type": "code",
        "colab": {}
      },
      "source": [
        "# confirm that did what we wanted\n",
        "print(type(int_rate0.strip().strip('%')))\n",
        "\n",
        "# typecast to float(?)\n",
        "print(type(float(int_rate0.strip().strip('%'))))"
      ],
      "execution_count": 0,
      "outputs": []
    },
    {
      "cell_type": "code",
      "metadata": {
        "id": "2KrVBtMswLtg",
        "colab_type": "code",
        "colab": {}
      },
      "source": [
        "# Convert int_rate\n",
        "# Define a function to remove percent signs from strings and convert to floats\n",
        "\n",
        "# write your function\n",
        "def int_rate_2_float(my_string):\n",
        "  return float(my_string.strip().strip('%'))"
      ],
      "execution_count": 0,
      "outputs": []
    },
    {
      "cell_type": "code",
      "metadata": {
        "id": "s9P8G7jHxIJp",
        "colab_type": "code",
        "colab": {}
      },
      "source": [
        "# test your function\n",
        "int_rate_2_float(int_rate0)"
      ],
      "execution_count": 0,
      "outputs": []
    },
    {
      "cell_type": "code",
      "metadata": {
        "id": "Z28u5xs2xanH",
        "colab_type": "code",
        "colab": {}
      },
      "source": [
        "# Apply the function to the int_rate column\n",
        "df['int_rate_float'] = df['int_rate'].apply(int_rate_2_float)\n",
        "df.columns      # call columns"
      ],
      "execution_count": 0,
      "outputs": []
    },
    {
      "cell_type": "code",
      "metadata": {
        "id": "SdM-YtigyPz9",
        "colab_type": "code",
        "colab": {}
      },
      "source": [
        "# compare the old and new columns\n",
        "df[['int_rate', 'int_rate_float']].head()"
      ],
      "execution_count": 0,
      "outputs": []
    },
    {
      "cell_type": "code",
      "metadata": {
        "id": "1-nYlIu4NozR",
        "colab_type": "code",
        "colab": {}
      },
      "source": [
        "# confirm that we can now employ math on this\n",
        "df['int_rate_double']=df['int_rate_float']*2\n",
        "df[['int_rate', 'int_rate_float', 'int_rate_double']].sample(5)"
      ],
      "execution_count": 0,
      "outputs": []
    },
    {
      "cell_type": "code",
      "metadata": {
        "id": "tz8qXKSIOteG",
        "colab_type": "code",
        "colab": {}
      },
      "source": [
        "#Clean emp_title"
      ],
      "execution_count": 0,
      "outputs": []
    },
    {
      "cell_type": "code",
      "metadata": {
        "id": "ix90MtQXOxmM",
        "colab_type": "code",
        "colab": {}
      },
      "source": [
        "# Let's explore this column\n",
        "df[['emp_title', 'int_rate']].sample(6)"
      ],
      "execution_count": 0,
      "outputs": []
    },
    {
      "cell_type": "code",
      "metadata": {
        "id": "YSaZra51PaTS",
        "colab_type": "code",
        "colab": {}
      },
      "source": [
        "# brackets for [viewing] columns [side-by-side]\n",
        "df[['emp_title', 'int_rate']].head()"
      ],
      "execution_count": 0,
      "outputs": []
    },
    {
      "cell_type": "code",
      "metadata": {
        "id": "KXI2WHLFPlCz",
        "colab_type": "code",
        "colab": {}
      },
      "source": [
        "#what are the possible titles?\n",
        "df['emp_title'].nunique()"
      ],
      "execution_count": 0,
      "outputs": []
    },
    {
      "cell_type": "code",
      "metadata": {
        "id": "3f5OALVmP4CU",
        "colab_type": "code",
        "colab": {}
      },
      "source": [
        "# Show the most popular titles\n",
        "df['emp_title'].value_counts(ascending=False,dropna=False).head()"
      ],
      "execution_count": 0,
      "outputs": []
    },
    {
      "cell_type": "code",
      "metadata": {
        "id": "GlNF86RBQLv_",
        "colab_type": "code",
        "colab": {}
      },
      "source": [
        "# wHoops, we got some nulls\n",
        "df['emp_title'].notnull().sum()"
      ],
      "execution_count": 0,
      "outputs": []
    },
    {
      "cell_type": "code",
      "metadata": {
        "id": "AKE7VpdoQisu",
        "colab_type": "code",
        "outputId": "49d798ae-2282-46df-899d-4450f5a79151",
        "colab": {
          "base_uri": "https://localhost:8080/",
          "height": 34
        }
      },
      "source": [
        "#Clean the title and handle missing values\n",
        "import numpy as np\n",
        "type(np.NaN)"
      ],
      "execution_count": 0,
      "outputs": [
        {
          "output_type": "execute_result",
          "data": {
            "text/plain": [
              "float"
            ]
          },
          "metadata": {
            "tags": []
          },
          "execution_count": 5
        }
      ]
    },
    {
      "cell_type": "code",
      "metadata": {
        "id": "kYoE2Be-QqN5",
        "colab_type": "code",
        "colab": {}
      },
      "source": [
        "# Write a function to clean up our titles\n",
        "def clean_title(title):\n",
        "  if isinstance(title, str):\n",
        "    return title.strip().title()\n",
        "  else:\n",
        "    return 'Unknown'\n",
        "\n",
        "examples=['owner', 'Supervisor', 'Project Manager', np.NaN] \n",
        "\n",
        "for item in examples:\n",
        "   print(clean_title(item))"
      ],
      "execution_count": 0,
      "outputs": []
    },
    {
      "cell_type": "code",
      "metadata": {
        "id": "MnMMiQE4RcgY",
        "colab_type": "code",
        "colab": {}
      },
      "source": [
        "# Now that we've tested our function, let's apply it to the entire dataframe column.\n",
        "df['emp_title_clean']=df['emp_title'].apply(clean_title)"
      ],
      "execution_count": 0,
      "outputs": []
    },
    {
      "cell_type": "code",
      "metadata": {
        "id": "lFt-HvsHqdda",
        "colab_type": "code",
        "colab": {}
      },
      "source": [
        "# compare old and new values\n",
        "df[['emp_title', 'emp_title_clean']].sample(6)"
      ],
      "execution_count": 0,
      "outputs": []
    },
    {
      "cell_type": "code",
      "metadata": {
        "id": "cZF6ETyXrA7I",
        "colab_type": "code",
        "colab": {}
      },
      "source": [
        "# check for missing data\n",
        "df['emp_title_clean'].isnull().sum()"
      ],
      "execution_count": 0,
      "outputs": []
    },
    {
      "cell_type": "code",
      "metadata": {
        "id": "fXKvhiccrNqx",
        "colab_type": "code",
        "colab": {}
      },
      "source": [
        "# how about them value counts?\n",
        "df['emp_title_clean'].value_counts(ascending=False).head()"
      ],
      "execution_count": 0,
      "outputs": []
    },
    {
      "cell_type": "code",
      "metadata": {
        "id": "CwS4X1IdrxbT",
        "colab_type": "code",
        "colab": {}
      },
      "source": [
        "# Create emp_title_manager\n",
        "df['emp_title_manager']=df['emp_title_clean'].str.contains('Manager')\n",
        "df.columns"
      ],
      "execution_count": 0,
      "outputs": []
    },
    {
      "cell_type": "code",
      "metadata": {
        "id": "cUGaLRIauKJL",
        "colab_type": "code",
        "colab": {}
      },
      "source": [
        "# Compare old and new\n",
        "df[['emp_title_clean', 'emp_title_manager']].sample(4)"
      ],
      "execution_count": 0,
      "outputs": []
    },
    {
      "cell_type": "code",
      "metadata": {
        "id": "jqh5CPUOutlS",
        "colab_type": "code",
        "colab": {}
      },
      "source": [
        "# any missing?\n",
        "df['emp_title_manager'].isnull().sum()"
      ],
      "execution_count": 0,
      "outputs": []
    },
    {
      "cell_type": "code",
      "metadata": {
        "id": "JGf2gYt7vR2S",
        "colab_type": "code",
        "colab": {}
      },
      "source": [
        "# Work with dates\n",
        "# list all columns and their data types\n",
        "df.dtypes  # Time/Date Components \"You can access these properties via the .dt accessor\""
      ],
      "execution_count": 0,
      "outputs": []
    },
    {
      "cell_type": "code",
      "metadata": {
        "id": "V7zK2Mtdv7p0",
        "colab_type": "code",
        "colab": {}
      },
      "source": [
        "# which columns are dates?\n",
        "for col in df.columns:\n",
        "  if (col.endswith('d')) or (col.endswith('date')):\n",
        "    print(col)"
      ],
      "execution_count": 0,
      "outputs": []
    },
    {
      "cell_type": "code",
      "metadata": {
        "id": "BquyqP-DwoPL",
        "colab_type": "code",
        "colab": {}
      },
      "source": [
        "# list all columns and their data types\n",
        "df.dtypes"
      ],
      "execution_count": 0,
      "outputs": []
    },
    {
      "cell_type": "code",
      "metadata": {
        "id": "xDPDMnns34_j",
        "colab_type": "code",
        "colab": {}
      },
      "source": [
        "# the pros do that with list comprehension\n",
        "date_col_list = [col for col in df.columns if (col.endswith('_d')) or (col.endswith('_date'))] # horizontal for loop\n",
        "print(date_col_list)"
      ],
      "execution_count": 0,
      "outputs": []
    },
    {
      "cell_type": "code",
      "metadata": {
        "id": "-GsF6qIS5Rp4",
        "colab_type": "code",
        "colab": {}
      },
      "source": [
        "# what is their dtype?\n",
        "df['issue_d'].dtype"
      ],
      "execution_count": 0,
      "outputs": []
    },
    {
      "cell_type": "code",
      "metadata": {
        "id": "nqIvs0SW5qnk",
        "colab_type": "code",
        "colab": {}
      },
      "source": [
        "# Even though it looks like a date\n",
        "df.loc[0:10, 'issue_d'] #takes only index labels and returns row or dataframe if the index label exists in the caller data frame. from https://www.geeksforgeeks.org/python-pandas-extracting-rows-using-loc/"
      ],
      "execution_count": 0,
      "outputs": []
    },
    {
      "cell_type": "code",
      "metadata": {
        "id": "HvytYm788uS8",
        "colab_type": "code",
        "colab": {}
      },
      "source": [
        "# Let's convert those strings to dates\n",
        "df['issue_d_clean']=pd.to_datetime(df['issue_d'], infer_datetime_format=True)"
      ],
      "execution_count": 0,
      "outputs": []
    },
    {
      "cell_type": "code",
      "metadata": {
        "id": "0zLR7zCb9IO4",
        "colab_type": "code",
        "colab": {}
      },
      "source": [
        "# compare\n",
        "df[['issue_d', 'issue_d_clean']].head()"
      ],
      "execution_count": 0,
      "outputs": []
    },
    {
      "cell_type": "code",
      "metadata": {
        "id": "l6PO54X59hGU",
        "colab_type": "code",
        "colab": {}
      },
      "source": [
        "# check the type\n",
        "df['issue_d_clean'].dtype  # Rtns \"dtype('<M8[ns]')\"; datetime64[ns] is a general dtype, while <M8[ns] is a specific dtype... from https://stackoverflow.com/questions/29206612/difference-between-data-type-datetime64ns-and-m8ns"
      ],
      "execution_count": 0,
      "outputs": []
    },
    {
      "cell_type": "code",
      "metadata": {
        "id": "VYxyaJAK-rRT",
        "colab_type": "code",
        "colab": {}
      },
      "source": [
        "# now we can create some new values\n",
        "df['year']=df['issue_d_clean'].dt.year"
      ],
      "execution_count": 0,
      "outputs": []
    },
    {
      "cell_type": "code",
      "metadata": {
        "id": "R48CQXza_FMi",
        "colab_type": "code",
        "colab": {}
      },
      "source": [
        "# compare\n",
        "df[['issue_d_clean', 'year']].sample(6)"
      ],
      "execution_count": 0,
      "outputs": []
    },
    {
      "cell_type": "code",
      "metadata": {
        "id": "vmgFnUpU_aak",
        "colab_type": "code",
        "colab": {}
      },
      "source": [
        "# Let's create a few more\n",
        "df['month']=df['issue_d_clean'].dt.month"
      ],
      "execution_count": 0,
      "outputs": []
    },
    {
      "cell_type": "code",
      "metadata": {
        "id": "1eAoFzjv_iR7",
        "colab_type": "code",
        "colab": {}
      },
      "source": [
        "# compare\n",
        "df[['issue_d_clean', 'month']].sample(6)"
      ],
      "execution_count": 0,
      "outputs": []
    },
    {
      "cell_type": "code",
      "metadata": {
        "id": "uteX3zn7_8Aw",
        "colab_type": "code",
        "colab": {}
      },
      "source": [
        "# Weekday\n",
        "df['weekday']=df['issue_d_clean'].dt.weekday\n",
        "\n",
        "# compare\n",
        "df[['issue_d_clean', 'weekday']].sample(6)"
      ],
      "execution_count": 0,
      "outputs": []
    },
    {
      "cell_type": "code",
      "metadata": {
        "id": "oYmFvNdZIOHI",
        "colab_type": "code",
        "colab": {}
      },
      "source": [
        "# Filtering"
      ],
      "execution_count": 0,
      "outputs": []
    },
    {
      "cell_type": "code",
      "metadata": {
        "id": "AYJUIgJQIY6m",
        "colab_type": "code",
        "colab": {}
      },
      "source": [
        "# set of booleans\n",
        "df['emp_title_manager']"
      ],
      "execution_count": 0,
      "outputs": []
    },
    {
      "cell_type": "code",
      "metadata": {
        "id": "uykJ2Om6IkkH",
        "colab_type": "code",
        "colab": {}
      },
      "source": [
        "# Filter on that!\n",
        "condition = df['emp_title_manager'] == True\n",
        "\n",
        "managers=df[condition]\n",
        "managers.head(10)"
      ],
      "execution_count": 0,
      "outputs": []
    },
    {
      "cell_type": "code",
      "metadata": {
        "id": "lq0fQsOYNLJI",
        "colab_type": "code",
        "colab": {}
      },
      "source": [
        "# Convert the 'Term' column from string to integer:\n",
        "\n",
        "# SEEMS HE DELETED THIS EXERCISE from previous version of his lecture notes:\n",
        "for i in range(len(df['term'])):      #iterate via loop through Term col\n",
        "  if(isinstance(df['term'][i], str)): #if current element is a string\n",
        "    df['term'][i] = int(df['term'][i].strip().strip('months')) #strip the 'months' & cast to int\n",
        "print(df['term'])\n",
        "\n",
        "# Other ways to convert:\n",
        "# (1) The astype(int) method:\n",
        "# df['DataFrame Column'] = df['DataFrame Column'].astype(int)\n",
        "# (2) The to_numeric method:\n",
        "# df['DataFrame Column'] = pd.to_numeric(df['DataFrame Column'])"
      ],
      "execution_count": 0,
      "outputs": []
    },
    {
      "cell_type": "markdown",
      "metadata": {
        "id": "ly895BgrVD9u",
        "colab_type": "text"
      },
      "source": [
        ""
      ]
    },
    {
      "cell_type": "code",
      "metadata": {
        "id": "NDwj4x7IUHe4",
        "colab_type": "code",
        "outputId": "b4caebd7-0742-4f8b-f4bb-61365fa03c07",
        "colab": {
          "base_uri": "https://localhost:8080/",
          "height": 218
        }
      },
      "source": [
        "#Make a column named loan_status_is_great. It should contain the integer 1 if \n",
        "#loan_status is \"Current\" or \"Fully Paid.\" Else it should contain the integer 0.\n",
        "\n",
        "df['loan_status_is_great'] = df['loan_status'] #set 'loan_status_is_great' initially to a copy of\n",
        "for i in range(len(df['loan_status_is_great'])):\n",
        "  if(df['loan_status'][i] == 'Current' ) or (df['loan_status'][i] == 'Fully Paid'):\n",
        "    df['loan_status_is_great'][i] = 1\n",
        "  else:\n",
        "    df['loan_status_is_great'][i] = 0\n",
        "\n",
        "print(df['loan_status_is_great'])"
      ],
      "execution_count": 0,
      "outputs": [
        {
          "output_type": "stream",
          "text": [
            "0         1\n",
            "1         1\n",
            "2         1\n",
            "3         1\n",
            "4         1\n",
            "         ..\n",
            "128407    0\n",
            "128408    1\n",
            "128409    1\n",
            "128410    1\n",
            "128411    1\n",
            "Name: loan_status_is_great, Length: 128412, dtype: object\n"
          ],
          "name": "stdout"
        }
      ]
    },
    {
      "cell_type": "code",
      "metadata": {
        "id": "vl2-5Yf3c4aj",
        "colab_type": "code",
        "outputId": "2cf7d1ac-6dc5-4e38-8a21-2a9049f54195",
        "colab": {
          "base_uri": "https://localhost:8080/",
          "height": 322
        }
      },
      "source": [
        "#Make last_pymnt_d_month and last_pymnt_d_year columns.\n",
        "'''\n",
        "print (df['last_pymnt_d'])\n",
        "df['last_pymnt_d'].dtype\n",
        "df['last_pymnt_d_month'] = df['last_pymnt_d'].str.strip(dt.year)\n",
        "\n",
        "# Let's create a few more\n",
        "\n",
        "df['last_pymnt_d_month']=df['last_pymnt_d'].strip(dt.year)\n",
        "print(df['last_pymnt_month'])\n",
        "'''\n",
        "#Make last_pymnt_d_month column:\n",
        "df['last_pymnt_d_month'] = df['last_pymnt_d'] \n",
        "for i in range(len(df['last_pymnt_d'])):  # iterate through each row of this column\n",
        "                                # cast each element of 'last_pymnt_d' column as a string to split it @ the - \n",
        "    df['last_pymnt_d_month'][i] = str(df['last_pymnt_d'][i]).split('-')[0] # and return the 1st element (split puts the parsed string into a list (~array))\n",
        "\n",
        "print(df['last_pymnt_d_month'])\n"
      ],
      "execution_count": 0,
      "outputs": [
        {
          "output_type": "stream",
          "text": [
            "/usr/local/lib/python3.6/dist-packages/ipykernel_launcher.py:15: SettingWithCopyWarning: \n",
            "A value is trying to be set on a copy of a slice from a DataFrame\n",
            "\n",
            "See the caveats in the documentation: http://pandas.pydata.org/pandas-docs/stable/user_guide/indexing.html#returning-a-view-versus-a-copy\n",
            "  from ipykernel import kernelapp as app\n"
          ],
          "name": "stderr"
        },
        {
          "output_type": "stream",
          "text": [
            "0         Aug\n",
            "1         Jul\n",
            "2         Sep\n",
            "3         Sep\n",
            "4         Sep\n",
            "         ... \n",
            "128407    Dec\n",
            "128408    Oct\n",
            "128409    Oct\n",
            "128410    Oct\n",
            "128411    Oct\n",
            "Name: last_pymnt_d_month, Length: 128412, dtype: object\n"
          ],
          "name": "stdout"
        }
      ]
    },
    {
      "cell_type": "code",
      "metadata": {
        "id": "hvGGc0w4zwtL",
        "colab_type": "code",
        "outputId": "990084fe-1701-475c-94bb-f337ec6d3297",
        "colab": {
          "base_uri": "https://localhost:8080/",
          "height": 423
        }
      },
      "source": [
        "#Make last_pymnt_d_year column:\n",
        "\n",
        "#better bc more inclusive of non-dashed elements in 'last_pymnt_d' column:\n",
        "df['last_pymnt_d_year'] = df['last_pymnt_d']\n",
        "for i in range(len(df['last_pymnt_d'])):\n",
        "  if str(df['last_pymnt_d'][i])!= 'nan':\n",
        "      df['last_pymnt_d_year'] [i]= str(df['last_pymnt_d'][i]).split('-')[1]\n",
        "  else: \n",
        "      df['last_pymnt_d_year'][i] = str(df['last_pymnt_d'][i])\n",
        "\n",
        "print(df['last_pymnt_d_year'])\n",
        "\n",
        "'''\n",
        "#initial attempt:\n",
        "df['last_pymnt_d_year'] = df['last_pymnt_d']\n",
        "for i in range(len(df['last_pymnt_d'])):\n",
        "  try:\n",
        "    df['last_pymnt_d_year'][i] = str(df['last_pymnt_d'][i]).split('-')[1]\n",
        "  except:  #got Out of range index error msg when probed 'last_pymnt_d' col, which has NaN (NO DASH)\n",
        "    df['last_pymnt_d_year'][i] = df['last_pymnt_d'][i] # if NO DASH, just rtn that element\n",
        "\n",
        "print(df['last_pymnt_d_year']) \n",
        "''' "
      ],
      "execution_count": 0,
      "outputs": [
        {
          "output_type": "stream",
          "text": [
            "/usr/local/lib/python3.6/dist-packages/ipykernel_launcher.py:4: SettingWithCopyWarning: \n",
            "A value is trying to be set on a copy of a slice from a DataFrame\n",
            "\n",
            "See the caveats in the documentation: http://pandas.pydata.org/pandas-docs/stable/user_guide/indexing.html#returning-a-view-versus-a-copy\n",
            "  after removing the cwd from sys.path.\n",
            "/usr/local/lib/python3.6/dist-packages/ipykernel_launcher.py:6: SettingWithCopyWarning: \n",
            "A value is trying to be set on a copy of a slice from a DataFrame\n",
            "\n",
            "See the caveats in the documentation: http://pandas.pydata.org/pandas-docs/stable/user_guide/indexing.html#returning-a-view-versus-a-copy\n",
            "  \n"
          ],
          "name": "stderr"
        },
        {
          "output_type": "stream",
          "text": [
            "0         2019\n",
            "1         2019\n",
            "2         2019\n",
            "3         2019\n",
            "4         2019\n",
            "          ... \n",
            "128407    2018\n",
            "128408    2019\n",
            "128409    2019\n",
            "128410    2019\n",
            "128411    2019\n",
            "Name: last_pymnt_d_year, Length: 128412, dtype: object\n"
          ],
          "name": "stdout"
        },
        {
          "output_type": "execute_result",
          "data": {
            "text/plain": [
              "\"\\n#initial attempt:\\ndf['last_pymnt_d_year'] = df['last_pymnt_d']\\nfor i in range(len(df['last_pymnt_d'])):\\n  try:\\n    df['last_pymnt_d_year'][i] = str(df['last_pymnt_d'][i]).split('-')[1]\\n  except:  #got Out of range index error msg when probed 'last_pymnt_d' col, which has NaN (NO DASH)\\n    df['last_pymnt_d_year'][i] = df['last_pymnt_d'][i] # if NO DASH, just rtn that element\\n\\nprint(df['last_pymnt_d_year']) \\n\""
            ]
          },
          "metadata": {
            "tags": []
          },
          "execution_count": 57
        }
      ]
    },
    {
      "cell_type": "markdown",
      "metadata": {
        "colab_type": "text",
        "id": "L8k0LiHmo5EU"
      },
      "source": [
        "# Stretch Goals\n",
        "\n",
        "You can do more with the LendingClub or Instacart datasets.\n",
        "\n",
        "LendingClub options:\n",
        "- There's one other column in the dataframe with percent signs. Remove them and convert to floats. You'll need to handle missing values.\n",
        "- Modify the `emp_title` column to replace titles with 'Other' if the title is not in the top 20. \n",
        "- Take initiatve and work on your own ideas!\n",
        "\n",
        "Instacart options:\n",
        "- Read [Instacart Market Basket Analysis, Winner's Interview: 2nd place, Kazuki Onodera](http://blog.kaggle.com/2017/09/21/instacart-market-basket-analysis-winners-interview-2nd-place-kazuki-onodera/), especially the **Feature Engineering** section. (Can you choose one feature from his bulleted lists, and try to engineer it with pandas code?)\n",
        "- Read and replicate parts of [Simple Exploration Notebook - Instacart](https://www.kaggle.com/sudalairajkumar/simple-exploration-notebook-instacart). (It's the Python Notebook with the most upvotes for this Kaggle competition.)\n",
        "- Take initiative and work on your own ideas!"
      ]
    },
    {
      "cell_type": "markdown",
      "metadata": {
        "colab_type": "text",
        "id": "0_7PXF7lpEXg"
      },
      "source": [
        "You can uncomment and run the cells below to re-download and extract the Instacart data"
      ]
    },
    {
      "cell_type": "code",
      "metadata": {
        "id": "urIePNa0yNG6",
        "colab_type": "code",
        "colab": {}
      },
      "source": [
        "# !wget https://s3.amazonaws.com/instacart-datasets/instacart_online_grocery_shopping_2017_05_01.tar.gz"
      ],
      "execution_count": 0,
      "outputs": []
    },
    {
      "cell_type": "code",
      "metadata": {
        "id": "X9zEyu-uyNG8",
        "colab_type": "code",
        "colab": {}
      },
      "source": [
        "# !tar --gunzip --extract --verbose --file=instacart_online_grocery_shopping_2017_05_01.tar.gz"
      ],
      "execution_count": 0,
      "outputs": []
    },
    {
      "cell_type": "code",
      "metadata": {
        "id": "Y3IqrhlpyNG-",
        "colab_type": "code",
        "colab": {}
      },
      "source": [
        "# %cd instacart_2017_05_01"
      ],
      "execution_count": 0,
      "outputs": []
    }
  ]
}