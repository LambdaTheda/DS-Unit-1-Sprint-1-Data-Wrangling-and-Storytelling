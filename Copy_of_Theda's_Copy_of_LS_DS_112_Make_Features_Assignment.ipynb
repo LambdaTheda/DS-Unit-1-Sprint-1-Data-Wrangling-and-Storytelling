{
  "nbformat": 4,
  "nbformat_minor": 0,
  "metadata": {
    "colab": {
      "name": "Copy of Theda's Copy of LS_DS_112_Make_Features_Assignment.ipynb",
      "provenance": [],
      "collapsed_sections": [],
      "include_colab_link": true
    },
    "kernelspec": {
      "display_name": "Python 3",
      "language": "python",
      "name": "python3"
    },
    "language_info": {
      "codemirror_mode": {
        "name": "ipython",
        "version": 3
      },
      "file_extension": ".py",
      "mimetype": "text/x-python",
      "name": "python",
      "nbconvert_exporter": "python",
      "pygments_lexer": "ipython3",
      "version": "3.7.1"
    }
  },
  "cells": [
    {
      "cell_type": "markdown",
      "metadata": {
        "id": "view-in-github",
        "colab_type": "text"
      },
      "source": [
        "<a href=\"https://colab.research.google.com/github/LambdaTheda/DS-Unit-1-Sprint-1-Data-Wrangling-and-Storytelling/blob/master/Copy_of_Theda's_Copy_of_LS_DS_112_Make_Features_Assignment.ipynb\" target=\"_parent\"><img src=\"https://colab.research.google.com/assets/colab-badge.svg\" alt=\"Open In Colab\"/></a>"
      ]
    },
    {
      "cell_type": "markdown",
      "metadata": {
        "id": "SnDJqBLi0FYW",
        "colab_type": "text"
      },
      "source": [
        "<img align=\"left\" src=\"https://lever-client-logos.s3.amazonaws.com/864372b1-534c-480e-acd5-9711f850815c-1524247202159.png\" width=200> "
      ]
    },
    {
      "cell_type": "markdown",
      "metadata": {
        "id": "W5GjI1z5yNG4",
        "colab_type": "text"
      },
      "source": [
        "# Assignment:\n",
        "\n",
        "- Replicate the lesson code.\n",
        "\n",
        " - This means that if you haven't followed along already, type out the things that we did in class. Forcing your fingers to hit each key will help you internalize the syntax of what we're doing. Make sure you understand each line of code that you're writing, google things that you don't fully understand.\n",
        " - [Lambda Learning Method for DS - By Ryan Herr](https://docs.google.com/document/d/1ubOw9B3Hfip27hF2ZFnW3a3z9xAgrUDRReOEo-FHCVs/edit?usp=sharing)\n",
        "- Convert the `term` column from string to integer.\n",
        "- Make a column named `loan_status_is_great`. It should contain the integer 1 if `loan_status` is \"Current\" or \"Fully Paid.\" Else it should contain the integer 0.\n",
        "- Make `last_pymnt_d_month` and `last_pymnt_d_year` columns."
      ]
    },
    {
      "cell_type": "code",
      "metadata": {
        "id": "AazB4eFwym2p",
        "colab_type": "code",
        "colab": {}
      },
      "source": [
        "##### Begin Working Here #####\n",
        "\n",
        "#Get LendingClub data\n",
        "!wget https://resources.lendingclub.com/LoanStats_2018Q4.csv.zip"
      ],
      "execution_count": 0,
      "outputs": []
    },
    {
      "cell_type": "code",
      "metadata": {
        "id": "3m3JWkIs2CDC",
        "colab_type": "code",
        "colab": {}
      },
      "source": [
        "!unzip LoanStats_2018Q4.csv.zip"
      ],
      "execution_count": 0,
      "outputs": []
    },
    {
      "cell_type": "code",
      "metadata": {
        "id": "Xcxqefa62LJI",
        "colab_type": "code",
        "colab": {}
      },
      "source": [
        "!head LoanStats_2018Q4.csv # reading 1st 5 rows of file using Scripting (bash)- easier bc can replace mult lines of code with fewer; the OS is protected against anything that isn't scripting\n",
        "                           # One can't read uncompressed zip files; \"looks\" like giberish to machine"
      ],
      "execution_count": 0,
      "outputs": []
    },
    {
      "cell_type": "code",
      "metadata": {
        "id": "_G2pxSkC8GQ6",
        "colab_type": "code",
        "colab": {}
      },
      "source": [
        "!tail LoanStats_2018Q4.csv # reading 1ast 5 rows of file"
      ],
      "execution_count": 0,
      "outputs": []
    },
    {
      "cell_type": "code",
      "metadata": {
        "id": "I8wKN6eH8ri1",
        "colab_type": "code",
        "colab": {}
      },
      "source": [
        "#Load LendingClub data\n",
        "\n",
        "import pandas as pd\n",
        "df = pd.read_csv('LoanStats_2018Q4.csv', skiprows=1, skipfooter=2,  engine='python')\n",
        "    # SKIPROWS: You can pass a list of row numbers to skiprows instead of an integer.\n",
        "\n",
        "    # By giving the function the integer 10, you're just skipping the first 10 lines.\n",
        "\n",
        "    # To keep the first row 0 (as the header) and then skip everything else up to row 10, you can write:\n",
        "\n",
        "    # pd.read_csv('test.csv', sep='|', skiprows=range(1, 10))\n",
        "\n",
        "    # SKIPFOOTER:  Indicates number of rows to skip from bottom of the file.\n",
        "\n",
        "    # Ensure that engine parameter is ‘python’ and not ‘c’ while using skipfooter.\n",
        "\n",
        "    # So to skip last 4 rows of a file, you can use skipfooter = 4\n",
        "\n",
        "    # import pandas as pd\n",
        "    # df = pd.read_csv(\"f500.csv\", skipfooter = 4, engine = 'python')\n",
        "\n",
        "import pandas as pd\n",
        "df.head()"
      ],
      "execution_count": 0,
      "outputs": []
    },
    {
      "cell_type": "code",
      "metadata": {
        "id": "kMQ9QiCM_wz5",
        "colab_type": "code",
        "colab": {}
      },
      "source": [
        "# What is the shape of my file?\n",
        "\n",
        "print(df.shape)  #shape is an attribute; returns (Rows, Columns)\n",
        "print(df.columns)"
      ],
      "execution_count": 0,
      "outputs": []
    },
    {
      "cell_type": "code",
      "metadata": {
        "id": "OzVgSkS4AJgh",
        "colab_type": "code",
        "colab": {}
      },
      "source": [
        "df.shape"
      ],
      "execution_count": 0,
      "outputs": []
    },
    {
      "cell_type": "code",
      "metadata": {
        "id": "-VEjG9wBANpU",
        "colab_type": "code",
        "colab": {}
      },
      "source": [
        "# How much missing data do I have?\n",
        "\n",
        "# look at subset of data rows and columns:\n",
        "pd.options.display.max_rows=999\n",
        "pd.options.display.max_columns=100\n",
        "\n",
        "# look for missing values via summation of Null values,\n",
        "# https://pandas.pydata.org/pandas-docs/stable/reference/api/pandas.DataFrame.sort_values.html\n",
        "# ascending= False will return sorted data in descending order (largest to smallest); True is default\n",
        "df.isnull().sum().sort_values(ascending=False)"
      ],
      "execution_count": 0,
      "outputs": []
    },
    {
      "cell_type": "code",
      "metadata": {
        "id": "EYzm7v2dRWuz",
        "colab_type": "code",
        "colab": {}
      },
      "source": [
        "# Work with strings\n",
        "\n",
        "# Let's identify a column that shouldn't be a string.\n",
        "df['int_rate'].head()"
      ],
      "execution_count": 0,
      "outputs": []
    },
    {
      "cell_type": "code",
      "metadata": {
        "id": "XgR0-sr1RsAg",
        "colab_type": "code",
        "colab": {}
      },
      "source": [
        "# what is the data type of this column?\n",
        "df['int_rate'].dtype  # returns dtype('O') for String"
      ],
      "execution_count": 0,
      "outputs": []
    },
    {
      "cell_type": "code",
      "metadata": {
        "id": "4XcawhPQR3nL",
        "colab_type": "code",
        "colab": {}
      },
      "source": [
        "# what is the value of the first cell in this column?\n",
        "\n",
        "# retrieve/extract row via df.loc[] DataFrame.loc[] method is a method that takes only index labels and returns row or dataframe if the index label exists in the caller data frame.\n",
        "int_rate0 = df.loc[0, 'int_rate']  # 0 for 1st cell\n",
        "print(int_rate0)\n",
        "int_rate0                          # call df"
      ],
      "execution_count": 0,
      "outputs": []
    },
    {
      "cell_type": "code",
      "metadata": {
        "id": "eQsg-1c3pym3",
        "colab_type": "code",
        "colab": {}
      },
      "source": [
        "# we need a python method for removing string values\n",
        "# https://www.programiz.com › python-programming › methods › strip\n",
        "# Python String strip() The strip() method returns a copy of the string with both leading and trailing characters removed (based on the string argument passed). The strip() removes characters from both left and right based on the argument (a string specifying the set of characters to be removed).\n",
        "int_rate0.strip()"
      ],
      "execution_count": 0,
      "outputs": []
    },
    {
      "cell_type": "code",
      "metadata": {
        "id": "ZyFLBGnhrJ23",
        "colab_type": "code",
        "colab": {}
      },
      "source": [
        "# get rid of the percent sign\n",
        "int_rate0.strip('%')"
      ],
      "execution_count": 0,
      "outputs": []
    },
    {
      "cell_type": "code",
      "metadata": {
        "id": "6ncVx7EfrYhj",
        "colab_type": "code",
        "colab": {}
      },
      "source": [
        "# get rid of both using \"chained methods\"\n",
        "int_rate0.strip().strip('%')"
      ],
      "execution_count": 0,
      "outputs": []
    },
    {
      "cell_type": "code",
      "metadata": {
        "id": "tzi_KJBAr0Fu",
        "colab_type": "code",
        "colab": {}
      },
      "source": [
        "# Check which version of pandas\n",
        "pd.__version__ # 2 underscores twice\n"
      ],
      "execution_count": 0,
      "outputs": []
    },
    {
      "cell_type": "code",
      "metadata": {
        "id": "voyIiUDjsOZb",
        "colab_type": "code",
        "colab": {}
      },
      "source": [
        "# Finally, we can now convert from string to float\n",
        "float(int_rate0.strip().strip('%'))"
      ],
      "execution_count": 0,
      "outputs": []
    },
    {
      "cell_type": "code",
      "metadata": {
        "id": "GapuWlW6t_mx",
        "colab_type": "code",
        "colab": {}
      },
      "source": [
        "# confirm that did what we wanted\n",
        "print(type(int_rate0.strip().strip('%')))\n",
        "\n",
        "# typecast to float(?)\n",
        "print(type(float(int_rate0.strip().strip('%'))))"
      ],
      "execution_count": 0,
      "outputs": []
    },
    {
      "cell_type": "code",
      "metadata": {
        "id": "vL-rw8SYU7m2",
        "colab_type": "code",
        "colab": {}
      },
      "source": [
        "# Convert the 'Term' column from string to integer:\n",
        "\n",
        "# (1) The astype(int) method:\n",
        "# df['DataFrame Column'] = df['DataFrame Column'].astype(int)\n",
        "\n",
        "# SEEMS HE DELETED THIS EXERCISE fromp previous version of his lecture notes:\n",
        "# df['term'] = df['term'].astype(int)\n",
        "\n",
        "# (2) The to_numeric method:\n",
        "# df['DataFrame Column'] = pd.to_numeric(df['DataFrame Column'])\n",
        " "
      ],
      "execution_count": 0,
      "outputs": []
    },
    {
      "cell_type": "code",
      "metadata": {
        "id": "2KrVBtMswLtg",
        "colab_type": "code",
        "colab": {}
      },
      "source": [
        "# Convert int_rate\n",
        "# Define a function to remove percent signs from strings and convert to floats\n",
        "\n",
        "# write your function\n",
        "def int_rate_2_float(my_string):\n",
        "  return float(my_string.strip().strip('%'))"
      ],
      "execution_count": 0,
      "outputs": []
    },
    {
      "cell_type": "code",
      "metadata": {
        "id": "s9P8G7jHxIJp",
        "colab_type": "code",
        "outputId": "23438ab0-d23a-432b-ae33-4163a4003913",
        "colab": {
          "base_uri": "https://localhost:8080/",
          "height": 34
        }
      },
      "source": [
        "# test your function\n",
        "int_rate_2_float(int_rate0)"
      ],
      "execution_count": 0,
      "outputs": [
        {
          "output_type": "execute_result",
          "data": {
            "text/plain": [
              "14.47"
            ]
          },
          "metadata": {
            "tags": []
          },
          "execution_count": 32
        }
      ]
    },
    {
      "cell_type": "code",
      "metadata": {
        "id": "Z28u5xs2xanH",
        "colab_type": "code",
        "colab": {}
      },
      "source": [
        "# Apply the function to the int_rate column\n",
        "df['int_rate_float'] = df['int_rate'].apply(int_rate_2_float)\n",
        "df.columns      # call columns"
      ],
      "execution_count": 0,
      "outputs": []
    },
    {
      "cell_type": "code",
      "metadata": {
        "id": "SdM-YtigyPz9",
        "colab_type": "code",
        "colab": {}
      },
      "source": [
        "# compare the old and new columns\n",
        "df[['int_rate0', 'int_rate_float']].head()"
      ],
      "execution_count": 0,
      "outputs": []
    },
    {
      "cell_type": "markdown",
      "metadata": {
        "colab_type": "text",
        "id": "L8k0LiHmo5EU"
      },
      "source": [
        "# Stretch Goals\n",
        "\n",
        "You can do more with the LendingClub or Instacart datasets.\n",
        "\n",
        "LendingClub options:\n",
        "- There's one other column in the dataframe with percent signs. Remove them and convert to floats. You'll need to handle missing values.\n",
        "- Modify the `emp_title` column to replace titles with 'Other' if the title is not in the top 20. \n",
        "- Take initiatve and work on your own ideas!\n",
        "\n",
        "Instacart options:\n",
        "- Read [Instacart Market Basket Analysis, Winner's Interview: 2nd place, Kazuki Onodera](http://blog.kaggle.com/2017/09/21/instacart-market-basket-analysis-winners-interview-2nd-place-kazuki-onodera/), especially the **Feature Engineering** section. (Can you choose one feature from his bulleted lists, and try to engineer it with pandas code?)\n",
        "- Read and replicate parts of [Simple Exploration Notebook - Instacart](https://www.kaggle.com/sudalairajkumar/simple-exploration-notebook-instacart). (It's the Python Notebook with the most upvotes for this Kaggle competition.)\n",
        "- Take initiative and work on your own ideas!"
      ]
    },
    {
      "cell_type": "markdown",
      "metadata": {
        "colab_type": "text",
        "id": "0_7PXF7lpEXg"
      },
      "source": [
        "You can uncomment and run the cells below to re-download and extract the Instacart data"
      ]
    },
    {
      "cell_type": "code",
      "metadata": {
        "id": "urIePNa0yNG6",
        "colab_type": "code",
        "colab": {}
      },
      "source": [
        "# !wget https://s3.amazonaws.com/instacart-datasets/instacart_online_grocery_shopping_2017_05_01.tar.gz"
      ],
      "execution_count": 0,
      "outputs": []
    },
    {
      "cell_type": "code",
      "metadata": {
        "id": "X9zEyu-uyNG8",
        "colab_type": "code",
        "colab": {}
      },
      "source": [
        "# !tar --gunzip --extract --verbose --file=instacart_online_grocery_shopping_2017_05_01.tar.gz"
      ],
      "execution_count": 0,
      "outputs": []
    },
    {
      "cell_type": "code",
      "metadata": {
        "id": "Y3IqrhlpyNG-",
        "colab_type": "code",
        "colab": {}
      },
      "source": [
        "# %cd instacart_2017_05_01"
      ],
      "execution_count": 0,
      "outputs": []
    }
  ]
}