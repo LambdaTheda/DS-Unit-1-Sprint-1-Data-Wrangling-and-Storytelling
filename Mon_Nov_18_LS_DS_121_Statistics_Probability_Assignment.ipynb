{
  "nbformat": 4,
  "nbformat_minor": 0,
  "metadata": {
    "kernelspec": {
      "display_name": "Python 3",
      "language": "python",
      "name": "python3"
    },
    "language_info": {
      "codemirror_mode": {
        "name": "ipython",
        "version": 3
      },
      "file_extension": ".py",
      "mimetype": "text/x-python",
      "name": "python",
      "nbconvert_exporter": "python",
      "pygments_lexer": "ipython3",
      "version": "3.7.3"
    },
    "colab": {
      "name": "Mon Nov 18 LS_DS_121_Statistics_Probability_Assignment.ipynb",
      "provenance": [],
      "collapsed_sections": [],
      "include_colab_link": true
    }
  },
  "cells": [
    {
      "cell_type": "markdown",
      "metadata": {
        "id": "view-in-github",
        "colab_type": "text"
      },
      "source": [
        "<a href=\"https://colab.research.google.com/github/LambdaTheda/DS-Unit-1-Sprint-1-Data-Wrangling-and-Storytelling/blob/master/Mon_Nov_18_LS_DS_121_Statistics_Probability_Assignment.ipynb\" target=\"_parent\"><img src=\"https://colab.research.google.com/assets/colab-badge.svg\" alt=\"Open In Colab\"/></a>"
      ]
    },
    {
      "cell_type": "markdown",
      "metadata": {
        "id": "Sa5KWMO1ngPN",
        "colab_type": "text"
      },
      "source": [
        "<img align=\"left\" src=\"https://lever-client-logos.s3.amazonaws.com/864372b1-534c-480e-acd5-9711f850815c-1524247202159.png\" width=200>\n",
        "<br></br>\n",
        "<br></br>\n",
        "\n",
        "## *Data Science Unit 1 Sprint 2 Assignment 1*\n",
        "\n",
        "# Apply the t-test to real data\n",
        "\n",
        "Your assignment is to determine which issues have \"statistically significant\" differences between political parties in this [1980s congressional voting data](https://archive.ics.uci.edu/ml/datasets/Congressional+Voting+Records). The data consists of 435 instances (one for each congressperson), a class (democrat or republican), and 16 binary attributes (yes or no for voting for or against certain issues). Be aware - there are missing values!\n",
        "\n",
        "Your goals:\n",
        "\n",
        "1. Load and clean the data (or determine the best method to drop observations when running tests)\n",
        "2. Using hypothesis testing, find an issue that democrats support more than republicans with p < 0.01\n",
        "3. Using hypothesis testing, find an issue that republicans support more than democrats with p < 0.01\n",
        "4. Using hypothesis testing, find an issue where the difference between republicans and democrats has p > 0.1 (i.e. there may not be much of a difference)\n",
        "\n",
        "Note that this data will involve *2 sample* t-tests, because you're comparing averages across two groups (republicans and democrats) rather than a single group against a null hypothesis.\n",
        "\n",
        "Stretch goals:\n",
        "\n",
        "1. Refactor your code into functions so it's easy to rerun with arbitrary variables\n",
        "2. Apply hypothesis testing to your personal project data (for the purposes of this notebook you can type a summary of the hypothesis you formed and tested)"
      ]
    },
    {
      "cell_type": "code",
      "metadata": {
        "id": "ZKwspo2CngPP",
        "colab_type": "code",
        "colab": {
          "base_uri": "https://localhost:8080/",
          "height": 275
        },
        "outputId": "17fb32a8-3c52-4fe3-89c8-7e0b58456c80"
      },
      "source": [
        "### YOUR CODE STARTS HERE\n",
        "# 1) load data\n",
        "import pandas as pd\n",
        "\n",
        "# make into a df\n",
        "column_headers = ['party','handicapped-infants','water-project',\n",
        "                          'budget','physician-fee-freeze', 'el-salvador-aid',\n",
        "                          'religious-groups','anti-satellite-ban',\n",
        "                          'aid-to-contras','mx-missile','immigration',\n",
        "                          'synfuels', 'education', 'right-to-sue','crime','duty-free',\n",
        "                          'south-africa']\n",
        "\n",
        "df = pd.read_csv('https://archive.ics.uci.edu/ml/machine-learning-databases/voting-records/house-votes-84.data', \n",
        "                 header=None, \n",
        "                 names=column_headers,\n",
        "                 na_values=\"?\")\n",
        "\n",
        "df.head()\n",
        "df.describe\n",
        "#df.columns"
      ],
      "execution_count": 2,
      "outputs": [
        {
          "output_type": "execute_result",
          "data": {
            "text/plain": [
              "<bound method NDFrame.describe of           party handicapped-infants water-project  ... crime duty-free south-africa\n",
              "0    republican                   n             y  ...     y         n            y\n",
              "1    republican                   n             y  ...     y         n          NaN\n",
              "2      democrat                 NaN             y  ...     y         n            n\n",
              "3      democrat                   n             y  ...     n         n            y\n",
              "4      democrat                   y             y  ...     y         y            y\n",
              "..          ...                 ...           ...  ...   ...       ...          ...\n",
              "430  republican                   n             n  ...     y         n            y\n",
              "431    democrat                   n             n  ...     n         n            y\n",
              "432  republican                   n           NaN  ...     y         n            y\n",
              "433  republican                   n             n  ...     y         n            y\n",
              "434  republican                   n             y  ...     y       NaN            n\n",
              "\n",
              "[435 rows x 17 columns]>"
            ]
          },
          "metadata": {
            "tags": []
          },
          "execution_count": 2
        }
      ]
    },
    {
      "cell_type": "code",
      "metadata": {
        "id": "H9nVb69YCFV4",
        "colab_type": "code",
        "outputId": "9e97a16b-c5de-47a3-ec3c-f8c38a73c867",
        "colab": {
          "base_uri": "https://localhost:8080/",
          "height": 255
        }
      },
      "source": [
        "\n",
        "# 1a)clean data after having changed the column names and setting header = none\n",
        "#   (i) drop nulls/missing data\n",
        "df = df.dropna() # reassign to df for all fcn applications\n",
        "\n",
        "#   (ii) recode votes as numeric = DATA CLEANING\n",
        "df = df.replace ({'y':1, 'n':0}) #to be able to perform calcs on it\n",
        "\n",
        "print (df)"
      ],
      "execution_count": 3,
      "outputs": [
        {
          "output_type": "stream",
          "text": [
            "          party  handicapped-infants  ...  duty-free  south-africa\n",
            "5      democrat                    0  ...          1             1\n",
            "8    republican                    0  ...          0             1\n",
            "19     democrat                    1  ...          1             1\n",
            "23     democrat                    1  ...          1             1\n",
            "25     democrat                    1  ...          1             1\n",
            "..          ...                  ...  ...        ...           ...\n",
            "423    democrat                    0  ...          1             1\n",
            "426    democrat                    1  ...          1             1\n",
            "427  republican                    0  ...          0             1\n",
            "430  republican                    0  ...          0             1\n",
            "431    democrat                    0  ...          0             1\n",
            "\n",
            "[232 rows x 17 columns]\n"
          ],
          "name": "stdout"
        }
      ]
    },
    {
      "cell_type": "markdown",
      "metadata": {
        "id": "TdpyYhXVJvot",
        "colab_type": "text"
      },
      "source": [
        ""
      ]
    },
    {
      "cell_type": "code",
      "metadata": {
        "id": "tPu8d14m9exa",
        "colab_type": "code",
        "colab": {
          "base_uri": "https://localhost:8080/",
          "height": 88
        },
        "outputId": "6601b603-4a5b-4a47-b803-26f070d6e8b7"
      },
      "source": [
        "# 2) Using hypothesis testing, find an issue that democrats support more than republicans with p < 0.01\n",
        "\n",
        "from scipy.stats import ttest_ind\n",
        "import numpy as np\n",
        "\n",
        "# how did Republicans vote?\n",
        "rep = df[df['party']=='republican'] # make a subset for republicans\n",
        "rep.head()\n",
        "\n",
        "# the percentage of republicans who voted \"yes\" (1) on the handicapped-infants bill\n",
        "print('rep vote yes: '+str(rep['handicapped-infants'].sum()/len(rep)))\n",
        "\n",
        "# the percentage of democratss who voted \"yes\" (1) \n",
        "# on the handicapped-infants bill\n",
        "dem = df[df['party']=='democrat'] \n",
        "dem.head()\n",
        "\n",
        "# the percentage of democrats who voted \"yes\" (1) on the handicapped-infants bill\n",
        "print('dem vote yes: '+str(dem['handicapped-infants'].sum()/len(dem)))\n",
        "\n",
        "'''\n",
        " t-test to determine if  p < 0.01 the lower the p val the more likely we can REJECT the NULL HYPOTH, which is there is no diff btwn A & B\n",
        " t stat if + or - shows who is more in favor...so if we put dems first then rep and get a + t stat means dem more in favor in this scenario and alarger val means the more in supp they were \n",
        "\n",
        "Null hypoth: I ASSUME THAT BOTH PARTIES DID NOT VOTE DIFFERENTLY \n",
        "LOWER THE P VAL THE MORE WE REJECT THAT STATEMENT.\n",
        "\n",
        "With 99% Confidence level, we can assert that this data sample reflects the overall dataset voting pattern\n",
        "  ie, that here DEMOCRATS SUPPORT the handicapped-infants bill MORE THAN Republicans did with \n",
        "  p < .01  (REJECT the null hypothesis if p-value is < .05 or if my p-value is less than (1-confidence_level))\n",
        "\n",
        "DID SUM/LEN TO SHOW MEAN, THAT WE CAN DO THIS CALC WITH BINARY\n",
        "'''\n",
        "\n",
        "# compare with a t-test:\n",
        "# returns Result: Ttest_indResult(statistic=-6.240907554031057, pvalue=2.0722024876891192e-09)  2.07 x 10 ^-9 ACCEPT NULL HYPOTH bc p > 0.05\n",
        "ttest_ind(dem['handicapped-infants'], rep['handicapped-infants'])\n"
      ],
      "execution_count": 20,
      "outputs": [
        {
          "output_type": "stream",
          "text": [
            "rep vote yes: 0.1111111111111111\n",
            "dem vote yes: 0.5967741935483871\n"
          ],
          "name": "stdout"
        },
        {
          "output_type": "execute_result",
          "data": {
            "text/plain": [
              "Ttest_indResult(statistic=6.240907554031057, pvalue=2.0722024876891192e-09)"
            ]
          },
          "metadata": {
            "tags": []
          },
          "execution_count": 20
        }
      ]
    },
    {
      "cell_type": "code",
      "metadata": {
        "colab_type": "code",
        "outputId": "b915ea71-5fa8-487e-a031-97be649e3a02",
        "id": "9WKDRRz5Ql0T",
        "colab": {
          "base_uri": "https://localhost:8080/",
          "height": 218
        }
      },
      "source": [
        "# 3) Using hypothesis testing, find an issue that republicans support more than democrats with p < 0.01\n",
        "\n",
        "from scipy.stats import ttest_ind\n",
        "import numpy as np\n",
        "\n",
        "# df.columns\n",
        "\n",
        "def findIssue(columns):\n",
        "  columns = df.columns\n",
        "  for issue in columns:\n",
        "     \n",
        "\n",
        "    rep = df[df['party']=='republican'] # make a subset for republicans\n",
        "    rep.head()\n",
        "\n",
        "    # the percentage of republicans who voted \"yes\" (1) on the handicapped-infants bill\n",
        "    print('rep vote yes: '+str(rep['budget'].sum()/len(rep)))\n",
        "\n",
        "    # the percentage of democratss who voted \"yes\" (1) \n",
        "    # on the handicapped-infants bill\n",
        "    dem = df[df['party']=='democrat'] \n",
        "    dem.head()\n",
        "\n",
        "    # the percentage of democrats who voted \"yes\" (1) on the handicapped-infants bill\n",
        "    print('dem vote yes: '+str(dem['budget'].sum()/len(dem))) \n",
        "    print('')\n",
        "\n",
        "findIssue(columns)\n"
      ],
      "execution_count": 42,
      "outputs": [
        {
          "output_type": "error",
          "ename": "NameError",
          "evalue": "ignored",
          "traceback": [
            "\u001b[0;31m---------------------------------------------------------------------------\u001b[0m",
            "\u001b[0;31mNameError\u001b[0m                                 Traceback (most recent call last)",
            "\u001b[0;32m<ipython-input-42-1d46fe00db0a>\u001b[0m in \u001b[0;36m<module>\u001b[0;34m()\u001b[0m\n\u001b[1;32m     25\u001b[0m     \u001b[0mprint\u001b[0m\u001b[0;34m(\u001b[0m\u001b[0;34m''\u001b[0m\u001b[0;34m)\u001b[0m\u001b[0;34m\u001b[0m\u001b[0;34m\u001b[0m\u001b[0m\n\u001b[1;32m     26\u001b[0m \u001b[0;34m\u001b[0m\u001b[0m\n\u001b[0;32m---> 27\u001b[0;31m \u001b[0mfindIssue\u001b[0m\u001b[0;34m(\u001b[0m\u001b[0mcolumns\u001b[0m\u001b[0;34m)\u001b[0m\u001b[0;34m\u001b[0m\u001b[0;34m\u001b[0m\u001b[0m\n\u001b[0m",
            "\u001b[0;31mNameError\u001b[0m: name 'columns' is not defined"
          ]
        }
      ]
    }
  ]
}